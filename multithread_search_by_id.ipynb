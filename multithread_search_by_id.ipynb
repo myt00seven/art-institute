{
 "cells": [
  {
   "cell_type": "markdown",
   "metadata": {},
   "source": [
    "# search by id"
   ]
  },
  {
   "cell_type": "code",
   "execution_count": 1,
   "metadata": {},
   "outputs": [],
   "source": [
    "import requests \n",
    "import bs4 \n",
    "import os\n",
    "import urllib\n",
    "import re\n",
    "import multiprocessing\n",
    "\n",
    "# MAX_FILE_DOWNLOAD_COUNT = 200\n",
    "ARTWORK_ID_START = 1\n",
    "ARTWORK_ID_END = ARTWORK_ID_START + 100\n",
    "\n",
    "NUM_THREADS = 8\n",
    "\n",
    "MAXIMUM_CHAR_IN_FILENAME = 250\n",
    "CHAR_TO_KEEP_IN_END_OF_FILENAME = 20\n",
    "CC0_LICENSE_ONLY = False\n",
    "SKIP_EXISTED_FILE = True\n",
    "DOWNLOAD_DIR = 'downloads/'\n",
    "\n",
    "VERBOSE_LEVEL = 1"
   ]
  },
  {
   "cell_type": "code",
   "execution_count": 2,
   "metadata": {},
   "outputs": [],
   "source": [
    "if ARTWORK_ID_START > ARTWORK_ID_END:\n",
    "    ARTWORK_ID_START, ARTWORK_ID_END = ARTWORK_ID_END, ARTWORK_ID_START"
   ]
  },
  {
   "cell_type": "code",
   "execution_count": null,
   "metadata": {},
   "outputs": [],
   "source": []
  },
  {
   "cell_type": "code",
   "execution_count": 3,
   "metadata": {},
   "outputs": [],
   "source": [
    "# the idel filename:\n",
    "# title(year)-artist[style][origin]-(referencnumber).jpg\n",
    "\n",
    "# restrict the length of title so the entire line is less than 255\n",
    "# within title, if shorten is needed, keep the last 20 char and the rest starting from the start\n",
    "\n",
    "# the folder structure:\n",
    "# /downloads/style/artist/file.jpg"
   ]
  },
  {
   "cell_type": "code",
   "execution_count": 4,
   "metadata": {},
   "outputs": [],
   "source": [
    "def check_any_alpha(string):\n",
    "    for c in string:\n",
    "        if c.isalpha():\n",
    "            return True\n",
    "    return False"
   ]
  },
  {
   "cell_type": "code",
   "execution_count": 5,
   "metadata": {},
   "outputs": [],
   "source": [
    "def download_by_id(artwork_id):\n",
    "    \n",
    "    print(\"Search Progress: %d/%d, artwork id: %d\"%(artwork_id-ARTWORK_ID_START+1, ARTWORK_ID_END-ARTWORK_ID_START, artwork_id))\n",
    "    \n",
    "    urlbase = 'https://www.artic.edu/artworks/'\n",
    "    url = urlbase + str(artwork_id)\n",
    "    print(url)\n",
    "\n",
    "    res = requests.get(url)\n",
    "    try:\n",
    "        res.raise_for_status()\n",
    "\n",
    "        soup = bs4.BeautifulSoup(res.text, 'lxml')\n",
    "\n",
    "#         print(soup)\n",
    "\n",
    "        item = soup.find('div', class_='m-article-header__img-container')\n",
    "\n",
    "        #find the license\n",
    "        imglicense = soup.find('a', class_=\"m-article-header__img-credit\")\n",
    "        \n",
    "        if CC0_LICENSE_ONLY and imglicense:\n",
    "            imglic = imglicense.text\n",
    "            cleanlic = imglic.strip()\n",
    "            if cleanlic != \"CC0 Public Domain Designation\":\n",
    "                return\n",
    "        else:\n",
    "            #title\n",
    "            titletag = soup.find('h1', class_='sr-only')\n",
    "            title = titletag.text\n",
    "            if VERBOSE_LEVEL > 1:\n",
    "                print(title)\n",
    "\n",
    "            #artist\n",
    "            try:\n",
    "                artist = soup.find(\"dd\", attrs = {'itemprop' : 'creator'}).find(\"span\").find(\"a\").next\n",
    "            except:\n",
    "                artist = 'UnknownArtist'\n",
    "            if VERBOSE_LEVEL > 1:\n",
    "                print(artist)    \n",
    "\n",
    "            #style\n",
    "            try:\n",
    "                style = soup.find(itemprop=\"provider\").get(\"content\")\n",
    "            except:\n",
    "                style = 'None'\n",
    "            if VERBOSE_LEVEL > 1:\n",
    "                print(style)\n",
    "\n",
    "            #origin\n",
    "            try:\n",
    "                origin = soup.find(\"dd\", attrs = {'itemprop' : 'locationCreated'}).find(\"span\").next\n",
    "            # origin = soup.find(itemprop=\"locationCreated\").get(\"content\")\n",
    "            except:\n",
    "                origin = ''\n",
    "            if VERBOSE_LEVEL > 1:\n",
    "                print(origin)\n",
    "\n",
    "            # date\n",
    "            try: \n",
    "                date = soup.find(\"p\", attrs = {'class' : 'title f-secondary o-article__inline-header-display'}).next\n",
    "            except:\n",
    "                try:\n",
    "                    date = soup.find(\"dd\", attrs = {'itemprop' : 'dateCreated'}).find(\"a\").next\n",
    "                except:\n",
    "                    date = ''\n",
    "            date=date.replace(\"/\",'-')\n",
    "            if VERBOSE_LEVEL > 1:\n",
    "                print(date)\n",
    "\n",
    "            # reference number\n",
    "            try:\n",
    "                refidx = -1\n",
    "                refnum = soup.findAll('dd')[refidx].find(\"span\").next\n",
    "                while check_any_alpha(refnum):\n",
    "                    refidx -=1\n",
    "                    refnum = soup.findAll('dd')[refidx].find(\"span\").next\n",
    "            except:\n",
    "                refnum = ''\n",
    "            if VERBOSE_LEVEL > 1:\n",
    "                print(refnum)\n",
    "\n",
    "            # make the directory \n",
    "            mydirectory = os.path.join(DOWNLOAD_DIR, style, artist)\n",
    "            # soup.find(itemprop=\"provider\").get(\"content\")\n",
    "            os.makedirs(mydirectory, exist_ok=True)\n",
    "            print(mydirectory)\n",
    "\n",
    "            # make the filename\n",
    "            attr = \"(%s)-%s[%s](%s).jpg\"%(date,artist,style, refnum)\n",
    "            if VERBOSE_LEVEL > 1:\n",
    "                print(attr)\n",
    "            filename = title+attr\n",
    "            if VERBOSE_LEVEL > 1:\n",
    "                print(filename)\n",
    "            filenamelength = len(filename)\n",
    "            print(\"filenamelength:%s\"%filenamelength)\n",
    "            if filenamelength >= MAXIMUM_CHAR_IN_FILENAME:\n",
    "                title_available_length = MAXIMUM_CHAR_IN_FILENAME - len(attr)\n",
    "                title_cut = title[:title_available_length-CHAR_TO_KEEP_IN_END_OF_FILENAME]+'...'+title[-CHAR_TO_KEEP_IN_END_OF_FILENAME:] \n",
    "                filename = title_cut+attr\n",
    "                if VERBOSE_LEVEL > 1:\n",
    "                    print(\"After Cut:\")\n",
    "            filename = filename.replace(\"/\",\"-\")\n",
    "            if VERBOSE_LEVEL > 0:\n",
    "                print(filename)\n",
    "\n",
    "            if SKIP_EXISTED_FILE and os.path.isfile(os.path.join(mydirectory, os.path.basename(filename))):\n",
    "                with open(\"log.txt\", \"a\") as f:\n",
    "                    f.write(str(artwork_id) + \"|\" + \" FILE EXISTED: \" + filename +   \"\\n\")\n",
    "                return\n",
    "            try: \n",
    "                print(\"Try to download:\")\n",
    "                item.img.get(\"data-iiifid\")\n",
    "                imglink = item.img.get(\"data-iiifid\")\n",
    "                fulllink = imglink + '/full/4000,/0/default.jpg'\n",
    "\n",
    "                #download the file\n",
    "                print('Downloading image %s...' % (fulllink))\n",
    "                res = requests.get(fulllink)\n",
    "                res.raise_for_status()\n",
    "\n",
    "                #save the file\n",
    "                imageFile = open(os.path.join(mydirectory, os.path.basename(filename)), 'wb')\n",
    "                for chunk in res.iter_content(1000000):\n",
    "                    imageFile.write(chunk)\n",
    "                imageFile.close()\n",
    "\n",
    "                with open(\"log.txt\", \"a\") as f:\n",
    "                    f.write(str(artwork_id) + \"|\"+ \" NEW FILE: \" + filename +   \"\\n\")\n",
    "\n",
    "                if VERBOSE_LEVEL > 1:\n",
    "                    print(\"Downloaded\")\n",
    "                    \n",
    "                return\n",
    "\n",
    "            except:\n",
    "                with open(\"log.txt\", \"a\") as f:\n",
    "                    f.write(str(artwork_id) + \"| IMAGE UNAVAILABLE \\n\")\n",
    "    except Exception as e:\n",
    "        print (e)\n",
    "        with open(\"log.txt\", \"a\") as f:\n",
    "                f.write(str(artwork_id) + \"| URL UNAVAILABLE \\n\")"
   ]
  },
  {
   "cell_type": "code",
   "execution_count": 7,
   "metadata": {},
   "outputs": [],
   "source": [
    "import tqdm"
   ]
  },
  {
   "cell_type": "code",
   "execution_count": 8,
   "metadata": {
    "scrolled": false
   },
   "outputs": [
    {
     "name": "stdout",
     "output_type": "stream",
     "text": [
      "Current search range:  1 - 101\n"
     ]
    },
    {
     "name": "stderr",
     "output_type": "stream",
     "text": [
      "\r",
      "  0%|          | 0/100 [00:00<?, ?it/s]"
     ]
    },
    {
     "name": "stdout",
     "output_type": "stream",
     "text": [
      "Search Progress: 1/100, artwork id: 1\n",
      "Search Progress: 2/100, artwork id: 2\n",
      "Search Progress: 3/100, artwork id: 3\n",
      "Search Progress: 4/100, artwork id: 4\n",
      "Search Progress: 5/100, artwork id: 5\n",
      "Search Progress: 6/100, artwork id: 6\n",
      "Search Progress: 7/100, artwork id: 7\n",
      "https://www.artic.edu/artworks/2\n",
      "https://www.artic.edu/artworks/3\n",
      "Search Progress: 8/100, artwork id: 8\n",
      "https://www.artic.edu/artworks/6\n",
      "https://www.artic.edu/artworks/4\n",
      "https://www.artic.edu/artworks/5\n",
      "https://www.artic.edu/artworks/7\n",
      "https://www.artic.edu/artworks/1\n",
      "https://www.artic.edu/artworks/8\n",
      "404 Client Error: Not Found for url: https://www.artic.edu/artworks/2\n"
     ]
    },
    {
     "name": "stderr",
     "output_type": "stream",
     "text": [
      "\r",
      "  1%|          | 1/100 [00:00<00:33,  2.94it/s]"
     ]
    },
    {
     "name": "stdout",
     "output_type": "stream",
     "text": [
      "Search Progress: 9/100, artwork id: 9\n",
      "https://www.artic.edu/artworks/9\n",
      "404 Client Error: Not Found for url: https://www.artic.edu/artworks/1\n",
      "Search Progress: 10/100, artwork id: 10\n",
      "https://www.artic.edu/artworks/10\n",
      "404 Client Error: Not Found for url: https://www.artic.edu/artworks/3\n",
      "Search Progress: 11/100, artwork id: 11\n",
      "https://www.artic.edu/artworks/11\n",
      "404 Client Error: Not Found for url: https://www.artic.edu/artworks/5\n",
      "404 Client Error: Not Found for url: https://www.artic.edu/artworks/6\n",
      "Search Progress: 12/100, artwork id: 12\n",
      "Search Progress: 13/100, artwork id: 13\n",
      "https://www.artic.edu/artworks/12\n",
      "https://www.artic.edu/artworks/13\n",
      "404 Client Error: Not Found for url: https://www.artic.edu/artworks/8\n",
      "Search Progress: 14/100, artwork id: 14\n",
      "https://www.artic.edu/artworks/14\n",
      "downloads/Prints and Drawings/Lawrence Carmichael Earle\n",
      "filenamelength:79\n",
      "Priest and Boy(n.d.)-Lawrence Carmichael Earle[Prints and Drawings](1880.1).jpg\n"
     ]
    },
    {
     "name": "stderr",
     "output_type": "stream",
     "text": [
      "\r",
      "  7%|▋         | 7/100 [00:00<00:22,  4.06it/s]"
     ]
    },
    {
     "name": "stdout",
     "output_type": "stream",
     "text": [
      "Search Progress: 15/100, artwork id: 15\n",
      "https://www.artic.edu/artworks/15\n",
      "404 Client Error: Not Found for url: https://www.artic.edu/artworks/7\n",
      "Search Progress: 16/100, artwork id: 16\n",
      "https://www.artic.edu/artworks/16\n",
      "404 Client Error: Not Found for url: https://www.artic.edu/artworks/10\n"
     ]
    },
    {
     "name": "stderr",
     "output_type": "stream",
     "text": [
      "\r",
      "  9%|▉         | 9/100 [00:00<00:17,  5.13it/s]"
     ]
    },
    {
     "name": "stdout",
     "output_type": "stream",
     "text": [
      "Search Progress: 17/100, artwork id: 17\n",
      "https://www.artic.edu/artworks/17\n",
      "404 Client Error: Not Found for url: https://www.artic.edu/artworks/14\n",
      "Search Progress: 18/100, artwork id: 18\n",
      "https://www.artic.edu/artworks/18\n",
      "404 Client Error: Not Found for url: https://www.artic.edu/artworks/13\n",
      "Search Progress: 19/100, artwork id: 19\n",
      "https://www.artic.edu/artworks/19\n",
      "downloads/American Art/David Dalhoff Neal\n",
      "filenamelength:83\n",
      "Interior of St. Mark's, Venice(1869)-David Dalhoff Neal[American Art](1887.232).jpg\n"
     ]
    },
    {
     "name": "stderr",
     "output_type": "stream",
     "text": [
      "\r",
      " 12%|█▏        | 12/100 [00:00<00:12,  6.77it/s]"
     ]
    },
    {
     "name": "stdout",
     "output_type": "stream",
     "text": [
      "Search Progress: 20/100, artwork id: 20\n",
      "https://www.artic.edu/artworks/20\n",
      "downloads/American Art/Walter Shirlaw\n",
      "filenamelength:62\n",
      "Self-Portrait(1878)-Walter Shirlaw[American Art](1887.234).jpg\n",
      "Try to download:\n",
      "Search Progress: 21/100, artwork id: 21\n",
      "https://www.artic.edu/artworks/21\n",
      "404 Client Error: Not Found for url: https://www.artic.edu/artworks/15\n",
      "Search Progress: 22/100, artwork id: 22\n",
      "https://www.artic.edu/artworks/22\n",
      "404 Client Error: Not Found for url: https://www.artic.edu/artworks/17\n"
     ]
    },
    {
     "name": "stderr",
     "output_type": "stream",
     "text": [
      "\r",
      " 15%|█▌        | 15/100 [00:00<00:10,  7.94it/s]"
     ]
    },
    {
     "name": "stdout",
     "output_type": "stream",
     "text": [
      "Search Progress: 23/100, artwork id: 23\n",
      "https://www.artic.edu/artworks/23\n",
      "404 Client Error: Not Found for url: https://www.artic.edu/artworks/18\n",
      "Search Progress: 24/100, artwork id: 24\n",
      "https://www.artic.edu/artworks/24\n",
      "downloads/Prints and Drawings/Salvator Rosa\n",
      "filenamelength:77\n",
      "The Fall of the Giants(1663)-Salvator Rosa[Prints and Drawings](1887.249).jpg\n"
     ]
    },
    {
     "name": "stderr",
     "output_type": "stream",
     "text": [
      "\r",
      " 17%|█▋        | 17/100 [00:01<00:08,  9.67it/s]"
     ]
    },
    {
     "name": "stdout",
     "output_type": "stream",
     "text": [
      "Search Progress: 25/100, artwork id: 25\n",
      "https://www.artic.edu/artworks/25\n",
      "404 Client Error: Not Found for url: https://www.artic.edu/artworks/21\n",
      "Search Progress: 26/100, artwork id: 26\n",
      "https://www.artic.edu/artworks/26\n",
      "downloads/Prints and Drawings/Giovanni Battista Piranesi\n",
      "filenamelength:139\n",
      "View of Ponte Lugano on the Anio, from Views of Rome(1763, published 1800–07)-Giovanni Battista Piranesi[Prints and Drawings](1887.252).jpg\n",
      "Search Progress: 27/100, artwork id: 27\n",
      "https://www.artic.edu/artworks/27\n",
      "downloads/Prints and Drawings/Giovanni Battista Piranesi\n",
      "filenamelength:148\n",
      "Villa Pamphili outside Porta S. Pancrazio, from Views of Rome(1776, published 1800–07)-Giovanni Battista Piranesi[Prints and Drawings](1887.255).jpg\n"
     ]
    },
    {
     "name": "stderr",
     "output_type": "stream",
     "text": [
      "\r",
      " 20%|██        | 20/100 [00:01<00:07, 10.83it/s]"
     ]
    },
    {
     "name": "stdout",
     "output_type": "stream",
     "text": [
      "Search Progress: 28/100, artwork id: 28\n",
      "https://www.artic.edu/artworks/28\n",
      "downloads/Prints and Drawings/Lucas Emil Vorsterman\n",
      "filenamelength:85\n",
      "Jeronimo de Bran(c. 1615–75)-Lucas Emil Vorsterman[Prints and Drawings](1887.266).jpg\n",
      "Try to download:\n",
      "Downloading image https://www.artic.edu/iiif/2/86f7cbe3-8700-89b8-df0f-9fbcba74a553/full/4000,/0/default.jpg...\n",
      "404 Client Error: Not Found for url: https://www.artic.edu/artworks/12\n",
      "Search Progress: 29/100, artwork id: 29\n",
      "https://www.artic.edu/artworks/29\n",
      "404 Client Error: Not Found for url: https://www.artic.edu/artworks/29\n"
     ]
    },
    {
     "name": "stderr",
     "output_type": "stream",
     "text": [
      "\r",
      " 22%|██▏       | 22/100 [00:01<00:11,  6.88it/s]"
     ]
    },
    {
     "name": "stdout",
     "output_type": "stream",
     "text": [
      "Search Progress: 30/100, artwork id: 30\n",
      "https://www.artic.edu/artworks/30\n",
      "404 Client Error: Not Found for url: https://www.artic.edu/artworks/26\n",
      "Search Progress: 31/100, artwork id: 31\n",
      "https://www.artic.edu/artworks/31\n",
      "downloads/Prints and Drawings/Giovanni Jacopo Caraglio\n",
      "filenamelength:107\n",
      "The Battle around the Shield and Lance(c. 1527)-Giovanni Jacopo Caraglio[Prints and Drawings](1887.279).jpg\n"
     ]
    },
    {
     "name": "stderr",
     "output_type": "stream",
     "text": [
      "\r",
      " 24%|██▍       | 24/100 [00:02<00:20,  3.77it/s]"
     ]
    },
    {
     "name": "stdout",
     "output_type": "stream",
     "text": [
      "Search Progress: 32/100, artwork id: 32\n",
      "https://www.artic.edu/artworks/32\n",
      "404 Client Error: Not Found for url: https://www.artic.edu/artworks/31\n"
     ]
    },
    {
     "name": "stderr",
     "output_type": "stream",
     "text": [
      "\r",
      " 25%|██▌       | 25/100 [00:03<00:34,  2.19it/s]"
     ]
    },
    {
     "name": "stdout",
     "output_type": "stream",
     "text": [
      "Search Progress: 33/100, artwork id: 33\n",
      "https://www.artic.edu/artworks/33\n",
      "downloads/Prints and Drawings/Schelte Adamsz. Bolswert\n",
      "filenamelength:115\n",
      "The Marriage of the Virgin(1625-59, printed after 1750)-Schelte Adamsz. Bolswert[Prints and Drawings](1887.285).jpg\n"
     ]
    },
    {
     "name": "stderr",
     "output_type": "stream",
     "text": [
      "\r",
      " 26%|██▌       | 26/100 [00:04<00:37,  1.96it/s]"
     ]
    },
    {
     "name": "stdout",
     "output_type": "stream",
     "text": [
      "Search Progress: 34/100, artwork id: 34\n",
      "https://www.artic.edu/artworks/34\n",
      "downloads/Prints and Drawings/Luigi Rossini\n",
      "filenamelength:83\n",
      "The Arch of Septimus Severus(1820)-Luigi Rossini[Prints and Drawings](1887.256).jpg\n"
     ]
    },
    {
     "name": "stderr",
     "output_type": "stream",
     "text": [
      "\r",
      " 27%|██▋       | 27/100 [00:04<00:31,  2.31it/s]"
     ]
    },
    {
     "name": "stdout",
     "output_type": "stream",
     "text": [
      "Search Progress: 35/100, artwork id: 35\n",
      "https://www.artic.edu/artworks/35\n",
      "downloads/Prints and Drawings/Robert Nanteuil\n",
      "filenamelength:81\n",
      "Portrait of Edouard Molé(1653)-Robert Nanteuil[Prints and Drawings](1887.265).jpg\n"
     ]
    },
    {
     "name": "stderr",
     "output_type": "stream",
     "text": [
      "\r",
      " 28%|██▊       | 28/100 [00:05<00:31,  2.28it/s]"
     ]
    },
    {
     "name": "stdout",
     "output_type": "stream",
     "text": [
      "Search Progress: 36/100, artwork id: 36\n",
      "https://www.artic.edu/artworks/36\n",
      "downloads/Prints and Drawings/Charles Meryon\n",
      "filenamelength:80\n",
      "It Rocks but is Not Sunk(1854)-Charles Meryon[Prints and Drawings](1909.182).jpg\n"
     ]
    },
    {
     "name": "stderr",
     "output_type": "stream",
     "text": [
      "\r",
      " 29%|██▉       | 29/100 [00:05<00:25,  2.82it/s]"
     ]
    },
    {
     "name": "stdout",
     "output_type": "stream",
     "text": [
      "Search Progress: 37/100, artwork id: 37\n",
      "https://www.artic.edu/artworks/37\n",
      "downloads/Prints and Drawings/Jean Baptiste Camille Corot\n",
      "filenamelength:91\n",
      "Souvenir of Tuscany(c. 1845)-Jean Baptiste Camille Corot[Prints and Drawings](1887.273).jpg\n",
      "Try to download:\n",
      "Downloading image https://www.artic.edu/iiif/2/1cf49d40-41f4-9bea-362b-cd85e4bf69e5/full/4000,/0/default.jpg...\n",
      "downloads/Prints and Drawings/Jean Baptiste Camille Corot\n",
      "filenamelength:92\n",
      "Remembrance of Italy(c. 1866)-Jean Baptiste Camille Corot[Prints and Drawings](1887.272).jpg\n",
      "Try to download:\n",
      "Downloading image https://www.artic.edu/iiif/2/2d67425a-b872-a483-af97-cdaff13bfcd3/full/4000,/0/default.jpg...\n",
      "404 Client Error: Not Found for url: https://www.artic.edu/artworks/35\n"
     ]
    },
    {
     "name": "stderr",
     "output_type": "stream",
     "text": [
      "\r",
      " 30%|███       | 30/100 [00:06<00:41,  1.67it/s]"
     ]
    },
    {
     "name": "stdout",
     "output_type": "stream",
     "text": [
      "Search Progress: 38/100, artwork id: 38\n",
      "https://www.artic.edu/artworks/38\n",
      "404 Client Error: Not Found for url: https://www.artic.edu/artworks/37\n"
     ]
    },
    {
     "name": "stderr",
     "output_type": "stream",
     "text": [
      "\r",
      " 31%|███       | 31/100 [00:06<00:32,  2.14it/s]"
     ]
    },
    {
     "name": "stdout",
     "output_type": "stream",
     "text": [
      "Search Progress: 39/100, artwork id: 39\n",
      "https://www.artic.edu/artworks/39\n",
      "downloads/Prints and Drawings/Claude Mellan\n",
      "filenamelength:73\n",
      "St. Jerome Praying(1665)-Claude Mellan[Prints and Drawings](1887.284).jpg\n"
     ]
    },
    {
     "name": "stderr",
     "output_type": "stream",
     "text": [
      "\r",
      " 32%|███▏      | 32/100 [00:07<00:33,  2.05it/s]"
     ]
    },
    {
     "name": "stdout",
     "output_type": "stream",
     "text": [
      "Search Progress: 40/100, artwork id: 40\n",
      "https://www.artic.edu/artworks/40\n",
      "404 Client Error: Not Found for url: https://www.artic.edu/artworks/39\n"
     ]
    },
    {
     "name": "stderr",
     "output_type": "stream",
     "text": [
      "\r",
      " 33%|███▎      | 33/100 [00:08<00:44,  1.50it/s]"
     ]
    },
    {
     "name": "stdout",
     "output_type": "stream",
     "text": [
      "Search Progress: 41/100, artwork id: 41\n",
      "https://www.artic.edu/artworks/41\n",
      "downloads/Prints and Drawings/Master of the Die\n",
      "filenamelength:86\n",
      "Joseph Sold by his Brothers(1533)-Master of the Die[Prints and Drawings](1887.286).jpg\n"
     ]
    },
    {
     "name": "stderr",
     "output_type": "stream",
     "text": [
      "\r",
      " 34%|███▍      | 34/100 [00:09<00:47,  1.40it/s]"
     ]
    },
    {
     "name": "stdout",
     "output_type": "stream",
     "text": [
      "Search Progress: 42/100, artwork id: 42\n",
      "https://www.artic.edu/artworks/42\n",
      "downloads/Prints and Drawings/Antoine Masson\n",
      "filenamelength:68\n",
      "Saint Jerome(1693)-Antoine Masson[Prints and Drawings](1887.288).jpg\n",
      "Try to download:\n",
      "Downloading image https://www.artic.edu/iiif/2/54d8be36-99f7-adc3-f1e2-bddb1700fdfd/full/4000,/0/default.jpg...\n",
      "404 Client Error: Not Found for url: https://www.artic.edu/artworks/41\n"
     ]
    },
    {
     "name": "stderr",
     "output_type": "stream",
     "text": [
      "\r",
      " 35%|███▌      | 35/100 [00:10<00:51,  1.27it/s]"
     ]
    },
    {
     "name": "stdout",
     "output_type": "stream",
     "text": [
      "Search Progress: 43/100, artwork id: 43\n",
      "https://www.artic.edu/artworks/43\n",
      "downloads/Prints and Drawings/Pierre Drevet\n",
      "filenamelength:117\n",
      "Portrait of Jacques Nicolas Colbert, Archbishop of Rouen(after 1699)-Pierre Drevet[Prints and Drawings](1887.306).jpg\n",
      "Try to download:\n",
      "Downloading image https://www.artic.edu/iiif/2/976167b0-740a-0d49-02c8-32b04b2c0a13/full/4000,/0/default.jpg...\n",
      "downloads/Prints and Drawings/Jan Saenredam\n",
      "filenamelength:64\n",
      "Andromeda(1601)-Jan Saenredam[Prints and Drawings](1887.311).jpg\n",
      "Try to download:\n",
      "Downloading image https://www.artic.edu/iiif/2/45e553aa-be82-e322-f196-df7bd76cde7e/full/4000,/0/default.jpg...\n",
      "404 Client Error: Not Found for url: https://www.artic.edu/artworks/43\n"
     ]
    },
    {
     "name": "stderr",
     "output_type": "stream",
     "text": [
      "\r",
      " 36%|███▌      | 36/100 [00:13<01:32,  1.44s/it]"
     ]
    },
    {
     "name": "stdout",
     "output_type": "stream",
     "text": [
      "Search Progress: 44/100, artwork id: 44\n",
      "https://www.artic.edu/artworks/44\n",
      "Search Progress: 45/100, artwork id: 45\n",
      "https://www.artic.edu/artworks/45\n",
      "downloads/Prints and Drawings/Master F. P.\n",
      "filenamelength:77\n",
      "Saint James the Greater(n.d.)-Master F. P.[Prints and Drawings](1887.316).jpg\n"
     ]
    },
    {
     "name": "stderr",
     "output_type": "stream",
     "text": [
      "\r",
      " 38%|███▊      | 38/100 [00:13<01:06,  1.08s/it]"
     ]
    },
    {
     "name": "stdout",
     "output_type": "stream",
     "text": [
      "Search Progress: 46/100, artwork id: 46\n",
      "https://www.artic.edu/artworks/46\n",
      "404 Client Error: Not Found for url: https://www.artic.edu/artworks/45\n"
     ]
    },
    {
     "name": "stderr",
     "output_type": "stream",
     "text": [
      "\r",
      " 39%|███▉      | 39/100 [00:15<01:21,  1.33s/it]"
     ]
    },
    {
     "name": "stdout",
     "output_type": "stream",
     "text": [
      "Search Progress: 47/100, artwork id: 47\n",
      "https://www.artic.edu/artworks/47\n"
     ]
    },
    {
     "name": "stderr",
     "output_type": "stream",
     "text": [
      "\r",
      " 40%|████      | 40/100 [00:16<01:17,  1.29s/it]"
     ]
    },
    {
     "name": "stdout",
     "output_type": "stream",
     "text": [
      "Search Progress: 48/100, artwork id: 48\n",
      "https://www.artic.edu/artworks/48\n",
      "downloads/Prints and Drawings/Baccio Baldini\n",
      "filenamelength:75\n",
      "The Prophet Amos(c. 1470)-Baccio Baldini[Prints and Drawings](1887.340).jpg\n"
     ]
    },
    {
     "name": "stderr",
     "output_type": "stream",
     "text": [
      "\r",
      " 41%|████      | 41/100 [00:19<01:43,  1.75s/it]"
     ]
    },
    {
     "name": "stdout",
     "output_type": "stream",
     "text": [
      "Search Progress: 49/100, artwork id: 49\n",
      "https://www.artic.edu/artworks/49\n",
      "404 Client Error: Not Found for url: https://www.artic.edu/artworks/47\n"
     ]
    },
    {
     "name": "stderr",
     "output_type": "stream",
     "text": [
      "\r",
      " 42%|████▏     | 42/100 [00:20<01:25,  1.47s/it]"
     ]
    },
    {
     "name": "stdout",
     "output_type": "stream",
     "text": [
      "Search Progress: 50/100, artwork id: 50\n",
      "https://www.artic.edu/artworks/50\n",
      "downloads/Prints and Drawings/Luca Ciamberlano\n",
      "filenamelength:188\n",
      "Portrait Bust of a Woman with a Large Collar, from Perfect School to Learn How to Draw the Entire Human Body (English translation)(n.d.)-Luca Ciamberlano[Prints and Drawings](1887.372).jpg\n"
     ]
    },
    {
     "name": "stderr",
     "output_type": "stream",
     "text": [
      "\r",
      " 43%|████▎     | 43/100 [00:21<01:26,  1.51s/it]"
     ]
    },
    {
     "name": "stdout",
     "output_type": "stream",
     "text": [
      "Search Progress: 51/100, artwork id: 51\n",
      "https://www.artic.edu/artworks/51\n",
      "downloads/Prints and Drawings/Jules Bastien-Lepage\n",
      "filenamelength:83\n",
      "Mower Honing a Scythe(1878)-Jules Bastien-Lepage[Prints and Drawings](1887.374).jpg\n"
     ]
    },
    {
     "name": "stderr",
     "output_type": "stream",
     "text": [
      "\r",
      " 44%|████▍     | 44/100 [00:23<01:19,  1.41s/it]"
     ]
    },
    {
     "name": "stdout",
     "output_type": "stream",
     "text": [
      "Search Progress: 52/100, artwork id: 52\n",
      "https://www.artic.edu/artworks/52\n",
      "404 Client Error: Not Found for url: https://www.artic.edu/artworks/51\n"
     ]
    },
    {
     "name": "stderr",
     "output_type": "stream",
     "text": [
      "\r",
      " 45%|████▌     | 45/100 [00:24<01:20,  1.47s/it]"
     ]
    },
    {
     "name": "stdout",
     "output_type": "stream",
     "text": [
      "Search Progress: 53/100, artwork id: 53\n",
      "https://www.artic.edu/artworks/53\n"
     ]
    },
    {
     "name": "stderr",
     "output_type": "stream",
     "text": [
      "\r",
      " 46%|████▌     | 46/100 [00:24<01:01,  1.14s/it]"
     ]
    },
    {
     "name": "stdout",
     "output_type": "stream",
     "text": [
      "Search Progress: 54/100, artwork id: 54\n",
      "https://www.artic.edu/artworks/54\n",
      "downloads/Prints and Drawings/Heinrich Aldegrever\n",
      "filenamelength:119\n",
      "Susanna Surprised by the Elders, from The Story of Susanna(1555)-Heinrich Aldegrever[Prints and Drawings](1887.376).jpg\n"
     ]
    },
    {
     "name": "stderr",
     "output_type": "stream",
     "text": [
      "\r",
      " 47%|████▋     | 47/100 [00:26<01:10,  1.33s/it]"
     ]
    },
    {
     "name": "stdout",
     "output_type": "stream",
     "text": [
      "Search Progress: 55/100, artwork id: 55\n",
      "https://www.artic.edu/artworks/55\n",
      "404 Client Error: Not Found for url: https://www.artic.edu/artworks/53\n",
      "Search Progress: 56/100, artwork id: 56\n",
      "https://www.artic.edu/artworks/56\n",
      "404 Client Error: Not Found for url: https://www.artic.edu/artworks/54\n"
     ]
    },
    {
     "name": "stderr",
     "output_type": "stream",
     "text": [
      "\r",
      " 49%|████▉     | 49/100 [00:27<00:49,  1.02it/s]"
     ]
    },
    {
     "name": "stdout",
     "output_type": "stream",
     "text": [
      "Search Progress: 57/100, artwork id: 57\n",
      "https://www.artic.edu/artworks/57\n"
     ]
    },
    {
     "name": "stderr",
     "output_type": "stream",
     "text": [
      "Process ForkPoolWorker-3:\n",
      "Process ForkPoolWorker-7:\n",
      "Process ForkPoolWorker-6:\n",
      "Process ForkPoolWorker-2:\n",
      "Process ForkPoolWorker-4:\n"
     ]
    },
    {
     "name": "stdout",
     "output_type": "stream",
     "text": [
      "Search Progress: 58/100, artwork id: 58\n",
      "Search Progress: 59/100, artwork id: 59\n",
      "Search Progress: 60/100, artwork id: 60\n",
      "https://www.artic.edu/artworks/58\n",
      "https://www.artic.edu/artworks/59\n",
      "https://www.artic.edu/artworks/60\n"
     ]
    },
    {
     "name": "stderr",
     "output_type": "stream",
     "text": [
      "Traceback (most recent call last):\n",
      "Traceback (most recent call last):\n",
      "Traceback (most recent call last):\n",
      "Traceback (most recent call last):\n",
      "Traceback (most recent call last):\n",
      "  File \"/usr/local/miniconda3/envs/web/lib/python3.7/multiprocessing/process.py\", line 297, in _bootstrap\n",
      "    self.run()\n",
      "  File \"/usr/local/miniconda3/envs/web/lib/python3.7/site-packages/urllib3/connectionpool.py\", line 379, in _make_request\n",
      "    httplib_response = conn.getresponse(buffering=True)\n",
      "  File \"/usr/local/miniconda3/envs/web/lib/python3.7/site-packages/urllib3/connectionpool.py\", line 379, in _make_request\n",
      "    httplib_response = conn.getresponse(buffering=True)\n",
      "  File \"/usr/local/miniconda3/envs/web/lib/python3.7/multiprocessing/process.py\", line 297, in _bootstrap\n",
      "    self.run()\n",
      "  File \"/usr/local/miniconda3/envs/web/lib/python3.7/multiprocessing/process.py\", line 297, in _bootstrap\n",
      "    self.run()\n",
      "  File \"/usr/local/miniconda3/envs/web/lib/python3.7/multiprocessing/process.py\", line 99, in run\n",
      "    self._target(*self._args, **self._kwargs)\n",
      "TypeError: getresponse() got an unexpected keyword argument 'buffering'\n",
      "  File \"/usr/local/miniconda3/envs/web/lib/python3.7/multiprocessing/process.py\", line 99, in run\n",
      "    self._target(*self._args, **self._kwargs)\n",
      "TypeError: getresponse() got an unexpected keyword argument 'buffering'\n",
      "  File \"/usr/local/miniconda3/envs/web/lib/python3.7/multiprocessing/pool.py\", line 121, in worker\n",
      "    result = (True, func(*args, **kwds))\n",
      "  File \"/usr/local/miniconda3/envs/web/lib/python3.7/multiprocessing/process.py\", line 99, in run\n",
      "    self._target(*self._args, **self._kwargs)\n",
      "\n",
      "During handling of the above exception, another exception occurred:\n",
      "\n",
      "  File \"/usr/local/miniconda3/envs/web/lib/python3.7/multiprocessing/pool.py\", line 121, in worker\n",
      "    result = (True, func(*args, **kwds))\n",
      "\n",
      "During handling of the above exception, another exception occurred:\n",
      "\n",
      "  File \"<ipython-input-5-c83e5f7f3978>\", line 9, in download_by_id\n",
      "    res = requests.get(url)\n",
      "Traceback (most recent call last):\n",
      "  File \"/usr/local/miniconda3/envs/web/lib/python3.7/multiprocessing/pool.py\", line 121, in worker\n",
      "    result = (True, func(*args, **kwds))\n",
      "  File \"/usr/local/miniconda3/envs/web/lib/python3.7/site-packages/requests/api.py\", line 75, in get\n",
      "    return request('get', url, params=params, **kwargs)\n",
      "Traceback (most recent call last):\n",
      "  File \"<ipython-input-5-c83e5f7f3978>\", line 9, in download_by_id\n",
      "    res = requests.get(url)\n",
      "  File \"<ipython-input-5-c83e5f7f3978>\", line 9, in download_by_id\n",
      "    res = requests.get(url)\n",
      "  File \"/usr/local/miniconda3/envs/web/lib/python3.7/multiprocessing/process.py\", line 297, in _bootstrap\n",
      "    self.run()\n",
      "  File \"/usr/local/miniconda3/envs/web/lib/python3.7/site-packages/requests/api.py\", line 60, in request\n",
      "    return session.request(method=method, url=url, **kwargs)\n",
      "  File \"/usr/local/miniconda3/envs/web/lib/python3.7/multiprocessing/process.py\", line 297, in _bootstrap\n",
      "    self.run()\n",
      "  File \"/usr/local/miniconda3/envs/web/lib/python3.7/site-packages/requests/api.py\", line 75, in get\n",
      "    return request('get', url, params=params, **kwargs)\n",
      "  File \"/usr/local/miniconda3/envs/web/lib/python3.7/site-packages/requests/api.py\", line 75, in get\n",
      "    return request('get', url, params=params, **kwargs)\n",
      "  File \"/usr/local/miniconda3/envs/web/lib/python3.7/multiprocessing/process.py\", line 99, in run\n",
      "    self._target(*self._args, **self._kwargs)\n",
      "  File \"/usr/local/miniconda3/envs/web/lib/python3.7/site-packages/requests/sessions.py\", line 533, in request\n",
      "    resp = self.send(prep, **send_kwargs)\n",
      "  File \"/usr/local/miniconda3/envs/web/lib/python3.7/multiprocessing/process.py\", line 99, in run\n",
      "    self._target(*self._args, **self._kwargs)\n",
      "  File \"/usr/local/miniconda3/envs/web/lib/python3.7/site-packages/requests/api.py\", line 60, in request\n",
      "    return session.request(method=method, url=url, **kwargs)\n",
      "  File \"/usr/local/miniconda3/envs/web/lib/python3.7/site-packages/requests/api.py\", line 60, in request\n",
      "    return session.request(method=method, url=url, **kwargs)\n",
      "  File \"/usr/local/miniconda3/envs/web/lib/python3.7/multiprocessing/pool.py\", line 121, in worker\n",
      "    result = (True, func(*args, **kwds))\n",
      "  File \"/usr/local/miniconda3/envs/web/lib/python3.7/multiprocessing/pool.py\", line 121, in worker\n",
      "    result = (True, func(*args, **kwds))\n"
     ]
    },
    {
     "ename": "KeyboardInterrupt",
     "evalue": "",
     "output_type": "error",
     "traceback": [
      "\u001b[0;31m---------------------------------------------------------------------------\u001b[0m",
      "\u001b[0;31mIndexError\u001b[0m                                Traceback (most recent call last)",
      "\u001b[0;32m/usr/local/miniconda3/envs/web/lib/python3.7/multiprocessing/pool.py\u001b[0m in \u001b[0;36mnext\u001b[0;34m(self, timeout)\u001b[0m\n\u001b[1;32m    732\u001b[0m             \u001b[0;32mtry\u001b[0m\u001b[0;34m:\u001b[0m\u001b[0;34m\u001b[0m\u001b[0;34m\u001b[0m\u001b[0m\n\u001b[0;32m--> 733\u001b[0;31m                 \u001b[0mitem\u001b[0m \u001b[0;34m=\u001b[0m \u001b[0mself\u001b[0m\u001b[0;34m.\u001b[0m\u001b[0m_items\u001b[0m\u001b[0;34m.\u001b[0m\u001b[0mpopleft\u001b[0m\u001b[0;34m(\u001b[0m\u001b[0;34m)\u001b[0m\u001b[0;34m\u001b[0m\u001b[0;34m\u001b[0m\u001b[0m\n\u001b[0m\u001b[1;32m    734\u001b[0m             \u001b[0;32mexcept\u001b[0m \u001b[0mIndexError\u001b[0m\u001b[0;34m:\u001b[0m\u001b[0;34m\u001b[0m\u001b[0;34m\u001b[0m\u001b[0m\n",
      "\u001b[0;31mIndexError\u001b[0m: pop from an empty deque",
      "\nDuring handling of the above exception, another exception occurred:\n",
      "\u001b[0;31mKeyboardInterrupt\u001b[0m                         Traceback (most recent call last)",
      "\u001b[0;32m<ipython-input-8-90b3f990ea17>\u001b[0m in \u001b[0;36m<module>\u001b[0;34m\u001b[0m\n\u001b[1;32m      6\u001b[0m \u001b[0;31m# output = pool.map(download_by_id,work_id_list)  #output is a list of [None,None,...] since download_stuff doesn't return anything\u001b[0m\u001b[0;34m\u001b[0m\u001b[0;34m\u001b[0m\u001b[0;34m\u001b[0m\u001b[0m\n\u001b[1;32m      7\u001b[0m \u001b[0;34m\u001b[0m\u001b[0m\n\u001b[0;32m----> 8\u001b[0;31m \u001b[0;32mfor\u001b[0m \u001b[0m_\u001b[0m \u001b[0;32min\u001b[0m \u001b[0mtqdm\u001b[0m\u001b[0;34m.\u001b[0m\u001b[0mtqdm\u001b[0m\u001b[0;34m(\u001b[0m\u001b[0mpool\u001b[0m\u001b[0;34m.\u001b[0m\u001b[0mimap_unordered\u001b[0m\u001b[0;34m(\u001b[0m\u001b[0mdownload_by_id\u001b[0m\u001b[0;34m,\u001b[0m \u001b[0mwork_id_list\u001b[0m\u001b[0;34m)\u001b[0m\u001b[0;34m,\u001b[0m \u001b[0mtotal\u001b[0m\u001b[0;34m=\u001b[0m\u001b[0mlen\u001b[0m\u001b[0;34m(\u001b[0m\u001b[0mwork_id_list\u001b[0m\u001b[0;34m)\u001b[0m\u001b[0;34m)\u001b[0m\u001b[0;34m:\u001b[0m\u001b[0;34m\u001b[0m\u001b[0;34m\u001b[0m\u001b[0m\n\u001b[0m\u001b[1;32m      9\u001b[0m     \u001b[0;32mpass\u001b[0m\u001b[0;34m\u001b[0m\u001b[0;34m\u001b[0m\u001b[0m\n\u001b[1;32m     10\u001b[0m \u001b[0;34m\u001b[0m\u001b[0m\n",
      "\u001b[0;32m/usr/local/miniconda3/envs/web/lib/python3.7/site-packages/tqdm/_tqdm.py\u001b[0m in \u001b[0;36m__iter__\u001b[0;34m(self)\u001b[0m\n\u001b[1;32m   1003\u001b[0m                 \"\"\"), fp_write=getattr(self.fp, 'write', sys.stderr.write))\n\u001b[1;32m   1004\u001b[0m \u001b[0;34m\u001b[0m\u001b[0m\n\u001b[0;32m-> 1005\u001b[0;31m             \u001b[0;32mfor\u001b[0m \u001b[0mobj\u001b[0m \u001b[0;32min\u001b[0m \u001b[0miterable\u001b[0m\u001b[0;34m:\u001b[0m\u001b[0;34m\u001b[0m\u001b[0;34m\u001b[0m\u001b[0m\n\u001b[0m\u001b[1;32m   1006\u001b[0m                 \u001b[0;32myield\u001b[0m \u001b[0mobj\u001b[0m\u001b[0;34m\u001b[0m\u001b[0;34m\u001b[0m\u001b[0m\n\u001b[1;32m   1007\u001b[0m                 \u001b[0;31m# Update and possibly print the progressbar.\u001b[0m\u001b[0;34m\u001b[0m\u001b[0;34m\u001b[0m\u001b[0;34m\u001b[0m\u001b[0m\n",
      "\u001b[0;32m/usr/local/miniconda3/envs/web/lib/python3.7/multiprocessing/pool.py\u001b[0m in \u001b[0;36mnext\u001b[0;34m(self, timeout)\u001b[0m\n\u001b[1;32m    735\u001b[0m                 \u001b[0;32mif\u001b[0m \u001b[0mself\u001b[0m\u001b[0;34m.\u001b[0m\u001b[0m_index\u001b[0m \u001b[0;34m==\u001b[0m \u001b[0mself\u001b[0m\u001b[0;34m.\u001b[0m\u001b[0m_length\u001b[0m\u001b[0;34m:\u001b[0m\u001b[0;34m\u001b[0m\u001b[0;34m\u001b[0m\u001b[0m\n\u001b[1;32m    736\u001b[0m                     \u001b[0;32mraise\u001b[0m \u001b[0mStopIteration\u001b[0m \u001b[0;32mfrom\u001b[0m \u001b[0;32mNone\u001b[0m\u001b[0;34m\u001b[0m\u001b[0;34m\u001b[0m\u001b[0m\n\u001b[0;32m--> 737\u001b[0;31m                 \u001b[0mself\u001b[0m\u001b[0;34m.\u001b[0m\u001b[0m_cond\u001b[0m\u001b[0;34m.\u001b[0m\u001b[0mwait\u001b[0m\u001b[0;34m(\u001b[0m\u001b[0mtimeout\u001b[0m\u001b[0;34m)\u001b[0m\u001b[0;34m\u001b[0m\u001b[0;34m\u001b[0m\u001b[0m\n\u001b[0m\u001b[1;32m    738\u001b[0m                 \u001b[0;32mtry\u001b[0m\u001b[0;34m:\u001b[0m\u001b[0;34m\u001b[0m\u001b[0;34m\u001b[0m\u001b[0m\n\u001b[1;32m    739\u001b[0m                     \u001b[0mitem\u001b[0m \u001b[0;34m=\u001b[0m \u001b[0mself\u001b[0m\u001b[0;34m.\u001b[0m\u001b[0m_items\u001b[0m\u001b[0;34m.\u001b[0m\u001b[0mpopleft\u001b[0m\u001b[0;34m(\u001b[0m\u001b[0;34m)\u001b[0m\u001b[0;34m\u001b[0m\u001b[0;34m\u001b[0m\u001b[0m\n",
      "\u001b[0;32m/usr/local/miniconda3/envs/web/lib/python3.7/threading.py\u001b[0m in \u001b[0;36mwait\u001b[0;34m(self, timeout)\u001b[0m\n\u001b[1;32m    294\u001b[0m         \u001b[0;32mtry\u001b[0m\u001b[0;34m:\u001b[0m    \u001b[0;31m# restore state no matter what (e.g., KeyboardInterrupt)\u001b[0m\u001b[0;34m\u001b[0m\u001b[0;34m\u001b[0m\u001b[0m\n\u001b[1;32m    295\u001b[0m             \u001b[0;32mif\u001b[0m \u001b[0mtimeout\u001b[0m \u001b[0;32mis\u001b[0m \u001b[0;32mNone\u001b[0m\u001b[0;34m:\u001b[0m\u001b[0;34m\u001b[0m\u001b[0;34m\u001b[0m\u001b[0m\n\u001b[0;32m--> 296\u001b[0;31m                 \u001b[0mwaiter\u001b[0m\u001b[0;34m.\u001b[0m\u001b[0macquire\u001b[0m\u001b[0;34m(\u001b[0m\u001b[0;34m)\u001b[0m\u001b[0;34m\u001b[0m\u001b[0;34m\u001b[0m\u001b[0m\n\u001b[0m\u001b[1;32m    297\u001b[0m                 \u001b[0mgotit\u001b[0m \u001b[0;34m=\u001b[0m \u001b[0;32mTrue\u001b[0m\u001b[0;34m\u001b[0m\u001b[0;34m\u001b[0m\u001b[0m\n\u001b[1;32m    298\u001b[0m             \u001b[0;32melse\u001b[0m\u001b[0;34m:\u001b[0m\u001b[0;34m\u001b[0m\u001b[0;34m\u001b[0m\u001b[0m\n",
      "\u001b[0;31mKeyboardInterrupt\u001b[0m: "
     ]
    },
    {
     "name": "stderr",
     "output_type": "stream",
     "text": [
      "  File \"/usr/local/miniconda3/envs/web/lib/python3.7/site-packages/requests/sessions.py\", line 646, in send\n",
      "    r = adapter.send(request, **kwargs)\n",
      "  File \"/usr/local/miniconda3/envs/web/lib/python3.7/site-packages/requests/sessions.py\", line 533, in request\n",
      "    resp = self.send(prep, **send_kwargs)\n",
      "  File \"/usr/local/miniconda3/envs/web/lib/python3.7/site-packages/requests/sessions.py\", line 533, in request\n",
      "    resp = self.send(prep, **send_kwargs)\n",
      "  File \"<ipython-input-5-c83e5f7f3978>\", line 9, in download_by_id\n",
      "    res = requests.get(url)\n",
      "  File \"<ipython-input-5-c83e5f7f3978>\", line 9, in download_by_id\n",
      "    res = requests.get(url)\n",
      "  File \"/usr/local/miniconda3/envs/web/lib/python3.7/site-packages/requests/sessions.py\", line 646, in send\n",
      "    r = adapter.send(request, **kwargs)\n",
      "  File \"/usr/local/miniconda3/envs/web/lib/python3.7/site-packages/requests/sessions.py\", line 646, in send\n",
      "    r = adapter.send(request, **kwargs)\n",
      "  File \"/usr/local/miniconda3/envs/web/lib/python3.7/site-packages/requests/adapters.py\", line 449, in send\n",
      "    timeout=timeout\n",
      "  File \"/usr/local/miniconda3/envs/web/lib/python3.7/site-packages/requests/api.py\", line 75, in get\n",
      "    return request('get', url, params=params, **kwargs)\n",
      "  File \"/usr/local/miniconda3/envs/web/lib/python3.7/site-packages/requests/api.py\", line 75, in get\n",
      "    return request('get', url, params=params, **kwargs)\n",
      "  File \"/usr/local/miniconda3/envs/web/lib/python3.7/site-packages/requests/adapters.py\", line 449, in send\n",
      "    timeout=timeout\n",
      "  File \"/usr/local/miniconda3/envs/web/lib/python3.7/site-packages/urllib3/connectionpool.py\", line 603, in urlopen\n",
      "    chunked=chunked)\n",
      "  File \"/usr/local/miniconda3/envs/web/lib/python3.7/site-packages/requests/api.py\", line 60, in request\n",
      "    return session.request(method=method, url=url, **kwargs)\n",
      "  File \"/usr/local/miniconda3/envs/web/lib/python3.7/site-packages/requests/adapters.py\", line 449, in send\n",
      "    timeout=timeout\n",
      "  File \"/usr/local/miniconda3/envs/web/lib/python3.7/site-packages/requests/api.py\", line 60, in request\n",
      "    return session.request(method=method, url=url, **kwargs)\n",
      "  File \"/usr/local/miniconda3/envs/web/lib/python3.7/site-packages/urllib3/connectionpool.py\", line 344, in _make_request\n",
      "    self._validate_conn(conn)\n",
      "  File \"/usr/local/miniconda3/envs/web/lib/python3.7/site-packages/urllib3/connectionpool.py\", line 603, in urlopen\n",
      "    chunked=chunked)\n",
      "  File \"/usr/local/miniconda3/envs/web/lib/python3.7/site-packages/urllib3/connectionpool.py\", line 603, in urlopen\n",
      "    chunked=chunked)\n",
      "  File \"/usr/local/miniconda3/envs/web/lib/python3.7/site-packages/requests/sessions.py\", line 533, in request\n",
      "    resp = self.send(prep, **send_kwargs)\n",
      "  File \"/usr/local/miniconda3/envs/web/lib/python3.7/site-packages/requests/sessions.py\", line 533, in request\n",
      "    resp = self.send(prep, **send_kwargs)\n",
      "  File \"/usr/local/miniconda3/envs/web/lib/python3.7/site-packages/urllib3/connectionpool.py\", line 344, in _make_request\n",
      "    self._validate_conn(conn)\n",
      "  File \"/usr/local/miniconda3/envs/web/lib/python3.7/site-packages/urllib3/connectionpool.py\", line 843, in _validate_conn\n",
      "    conn.connect()\n",
      "  File \"/usr/local/miniconda3/envs/web/lib/python3.7/site-packages/requests/sessions.py\", line 668, in send\n",
      "    history = [resp for resp in gen] if allow_redirects else []\n",
      "  File \"/usr/local/miniconda3/envs/web/lib/python3.7/site-packages/urllib3/connectionpool.py\", line 344, in _make_request\n",
      "    self._validate_conn(conn)\n",
      "  File \"/usr/local/miniconda3/envs/web/lib/python3.7/site-packages/urllib3/connectionpool.py\", line 843, in _validate_conn\n",
      "    conn.connect()\n",
      "  File \"/usr/local/miniconda3/envs/web/lib/python3.7/site-packages/requests/sessions.py\", line 646, in send\n",
      "    r = adapter.send(request, **kwargs)\n",
      "  File \"/usr/local/miniconda3/envs/web/lib/python3.7/site-packages/urllib3/connection.py\", line 370, in connect\n",
      "    ssl_context=context)\n",
      "  File \"/usr/local/miniconda3/envs/web/lib/python3.7/site-packages/urllib3/connectionpool.py\", line 843, in _validate_conn\n",
      "    conn.connect()\n",
      "  File \"/usr/local/miniconda3/envs/web/lib/python3.7/site-packages/requests/sessions.py\", line 668, in <listcomp>\n",
      "    history = [resp for resp in gen] if allow_redirects else []\n",
      "  File \"/usr/local/miniconda3/envs/web/lib/python3.7/site-packages/urllib3/connection.py\", line 370, in connect\n",
      "    ssl_context=context)\n",
      "  File \"/usr/local/miniconda3/envs/web/lib/python3.7/site-packages/urllib3/util/ssl_.py\", line 355, in ssl_wrap_socket\n",
      "    return context.wrap_socket(sock, server_hostname=server_hostname)\n",
      "  File \"/usr/local/miniconda3/envs/web/lib/python3.7/site-packages/urllib3/connection.py\", line 370, in connect\n",
      "    ssl_context=context)\n",
      "  File \"/usr/local/miniconda3/envs/web/lib/python3.7/site-packages/requests/adapters.py\", line 449, in send\n",
      "    timeout=timeout\n",
      "  File \"/usr/local/miniconda3/envs/web/lib/python3.7/site-packages/requests/sessions.py\", line 247, in resolve_redirects\n",
      "    **adapter_kwargs\n",
      "  File \"/usr/local/miniconda3/envs/web/lib/python3.7/site-packages/urllib3/util/ssl_.py\", line 355, in ssl_wrap_socket\n",
      "    return context.wrap_socket(sock, server_hostname=server_hostname)\n",
      "  File \"/usr/local/miniconda3/envs/web/lib/python3.7/site-packages/urllib3/util/ssl_.py\", line 355, in ssl_wrap_socket\n",
      "    return context.wrap_socket(sock, server_hostname=server_hostname)\n",
      "  File \"/usr/local/miniconda3/envs/web/lib/python3.7/ssl.py\", line 412, in wrap_socket\n",
      "    session=session\n",
      "  File \"/usr/local/miniconda3/envs/web/lib/python3.7/site-packages/urllib3/connectionpool.py\", line 603, in urlopen\n",
      "    chunked=chunked)\n",
      "  File \"/usr/local/miniconda3/envs/web/lib/python3.7/site-packages/requests/sessions.py\", line 646, in send\n",
      "    r = adapter.send(request, **kwargs)\n",
      "  File \"/usr/local/miniconda3/envs/web/lib/python3.7/ssl.py\", line 412, in wrap_socket\n",
      "    session=session\n",
      "  File \"/usr/local/miniconda3/envs/web/lib/python3.7/ssl.py\", line 412, in wrap_socket\n",
      "    session=session\n",
      "  File \"/usr/local/miniconda3/envs/web/lib/python3.7/ssl.py\", line 853, in _create\n",
      "    self.do_handshake()\n",
      "  File \"/usr/local/miniconda3/envs/web/lib/python3.7/site-packages/urllib3/connectionpool.py\", line 383, in _make_request\n",
      "    httplib_response = conn.getresponse()\n",
      "  File \"/usr/local/miniconda3/envs/web/lib/python3.7/site-packages/requests/adapters.py\", line 449, in send\n",
      "    timeout=timeout\n",
      "  File \"/usr/local/miniconda3/envs/web/lib/python3.7/ssl.py\", line 853, in _create\n",
      "    self.do_handshake()\n",
      "  File \"/usr/local/miniconda3/envs/web/lib/python3.7/ssl.py\", line 1117, in do_handshake\n",
      "    self._sslobj.do_handshake()\n",
      "  File \"/usr/local/miniconda3/envs/web/lib/python3.7/ssl.py\", line 853, in _create\n",
      "    self.do_handshake()\n",
      "  File \"/usr/local/miniconda3/envs/web/lib/python3.7/http/client.py\", line 1321, in getresponse\n",
      "    response.begin()\n",
      "  File \"/usr/local/miniconda3/envs/web/lib/python3.7/site-packages/urllib3/connectionpool.py\", line 603, in urlopen\n",
      "    chunked=chunked)\n",
      "  File \"/usr/local/miniconda3/envs/web/lib/python3.7/ssl.py\", line 1117, in do_handshake\n",
      "    self._sslobj.do_handshake()\n",
      "  File \"/usr/local/miniconda3/envs/web/lib/python3.7/ssl.py\", line 1117, in do_handshake\n",
      "    self._sslobj.do_handshake()\n",
      "  File \"/usr/local/miniconda3/envs/web/lib/python3.7/http/client.py\", line 296, in begin\n",
      "    version, status, reason = self._read_status()\n",
      "KeyboardInterrupt\n",
      "  File \"/usr/local/miniconda3/envs/web/lib/python3.7/site-packages/urllib3/connectionpool.py\", line 383, in _make_request\n",
      "    httplib_response = conn.getresponse()\n",
      "KeyboardInterrupt\n",
      "  File \"/usr/local/miniconda3/envs/web/lib/python3.7/http/client.py\", line 257, in _read_status\n",
      "    line = str(self.fp.readline(_MAXLINE + 1), \"iso-8859-1\")\n",
      "KeyboardInterrupt\n",
      "  File \"/usr/local/miniconda3/envs/web/lib/python3.7/http/client.py\", line 1321, in getresponse\n",
      "    response.begin()\n",
      "  File \"/usr/local/miniconda3/envs/web/lib/python3.7/socket.py\", line 589, in readinto\n",
      "    return self._sock.recv_into(b)\n",
      "  File \"/usr/local/miniconda3/envs/web/lib/python3.7/ssl.py\", line 1052, in recv_into\n",
      "    return self.read(nbytes, buffer)\n",
      "  File \"/usr/local/miniconda3/envs/web/lib/python3.7/http/client.py\", line 296, in begin\n",
      "    version, status, reason = self._read_status()\n",
      "  File \"/usr/local/miniconda3/envs/web/lib/python3.7/ssl.py\", line 911, in read\n",
      "    return self._sslobj.read(len, buffer)\n"
     ]
    },
    {
     "name": "stderr",
     "output_type": "stream",
     "text": [
      "  File \"/usr/local/miniconda3/envs/web/lib/python3.7/http/client.py\", line 257, in _read_status\n",
      "    line = str(self.fp.readline(_MAXLINE + 1), \"iso-8859-1\")\n",
      "  File \"/usr/local/miniconda3/envs/web/lib/python3.7/socket.py\", line 589, in readinto\n",
      "    return self._sock.recv_into(b)\n",
      "  File \"/usr/local/miniconda3/envs/web/lib/python3.7/ssl.py\", line 1052, in recv_into\n",
      "    return self.read(nbytes, buffer)\n",
      "KeyboardInterrupt\n",
      "  File \"/usr/local/miniconda3/envs/web/lib/python3.7/ssl.py\", line 911, in read\n",
      "    return self._sslobj.read(len, buffer)\n",
      "KeyboardInterrupt\n",
      "Process ForkPoolWorker-5:\n",
      "Process ForkPoolWorker-1:\n",
      "Process ForkPoolWorker-8:\n",
      "Traceback (most recent call last):\n",
      "Traceback (most recent call last):\n",
      "Traceback (most recent call last):\n",
      "  File \"/usr/local/miniconda3/envs/web/lib/python3.7/site-packages/urllib3/connectionpool.py\", line 379, in _make_request\n",
      "    httplib_response = conn.getresponse(buffering=True)\n",
      "  File \"/usr/local/miniconda3/envs/web/lib/python3.7/site-packages/urllib3/connectionpool.py\", line 379, in _make_request\n",
      "    httplib_response = conn.getresponse(buffering=True)\n",
      "TypeError: getresponse() got an unexpected keyword argument 'buffering'\n",
      "  File \"/usr/local/miniconda3/envs/web/lib/python3.7/site-packages/urllib3/connectionpool.py\", line 379, in _make_request\n",
      "    httplib_response = conn.getresponse(buffering=True)\n",
      "\n",
      "During handling of the above exception, another exception occurred:\n",
      "\n",
      "TypeError: getresponse() got an unexpected keyword argument 'buffering'\n",
      "TypeError: getresponse() got an unexpected keyword argument 'buffering'\n",
      "Traceback (most recent call last):\n",
      "  File \"/usr/local/miniconda3/envs/web/lib/python3.7/multiprocessing/process.py\", line 297, in _bootstrap\n",
      "    self.run()\n",
      "\n",
      "During handling of the above exception, another exception occurred:\n",
      "\n",
      "\n",
      "During handling of the above exception, another exception occurred:\n",
      "\n",
      "Traceback (most recent call last):\n",
      "  File \"/usr/local/miniconda3/envs/web/lib/python3.7/multiprocessing/process.py\", line 99, in run\n",
      "    self._target(*self._args, **self._kwargs)\n",
      "  File \"/usr/local/miniconda3/envs/web/lib/python3.7/multiprocessing/process.py\", line 297, in _bootstrap\n",
      "    self.run()\n",
      "Traceback (most recent call last):\n",
      "  File \"/usr/local/miniconda3/envs/web/lib/python3.7/multiprocessing/pool.py\", line 121, in worker\n",
      "    result = (True, func(*args, **kwds))\n",
      "  File \"/usr/local/miniconda3/envs/web/lib/python3.7/multiprocessing/process.py\", line 99, in run\n",
      "    self._target(*self._args, **self._kwargs)\n",
      "  File \"/usr/local/miniconda3/envs/web/lib/python3.7/multiprocessing/process.py\", line 297, in _bootstrap\n",
      "    self.run()\n",
      "  File \"<ipython-input-5-c83e5f7f3978>\", line 9, in download_by_id\n",
      "    res = requests.get(url)\n",
      "  File \"/usr/local/miniconda3/envs/web/lib/python3.7/multiprocessing/process.py\", line 99, in run\n",
      "    self._target(*self._args, **self._kwargs)\n",
      "  File \"/usr/local/miniconda3/envs/web/lib/python3.7/multiprocessing/pool.py\", line 121, in worker\n",
      "    result = (True, func(*args, **kwds))\n",
      "  File \"/usr/local/miniconda3/envs/web/lib/python3.7/multiprocessing/pool.py\", line 121, in worker\n",
      "    result = (True, func(*args, **kwds))\n",
      "  File \"/usr/local/miniconda3/envs/web/lib/python3.7/site-packages/requests/api.py\", line 75, in get\n",
      "    return request('get', url, params=params, **kwargs)\n",
      "  File \"<ipython-input-5-c83e5f7f3978>\", line 9, in download_by_id\n",
      "    res = requests.get(url)\n",
      "  File \"<ipython-input-5-c83e5f7f3978>\", line 9, in download_by_id\n",
      "    res = requests.get(url)\n",
      "  File \"/usr/local/miniconda3/envs/web/lib/python3.7/site-packages/requests/api.py\", line 60, in request\n",
      "    return session.request(method=method, url=url, **kwargs)\n",
      "  File \"/usr/local/miniconda3/envs/web/lib/python3.7/site-packages/requests/api.py\", line 75, in get\n",
      "    return request('get', url, params=params, **kwargs)\n",
      "  File \"/usr/local/miniconda3/envs/web/lib/python3.7/site-packages/requests/sessions.py\", line 533, in request\n",
      "    resp = self.send(prep, **send_kwargs)\n",
      "  File \"/usr/local/miniconda3/envs/web/lib/python3.7/site-packages/requests/api.py\", line 75, in get\n",
      "    return request('get', url, params=params, **kwargs)\n",
      "  File \"/usr/local/miniconda3/envs/web/lib/python3.7/site-packages/requests/api.py\", line 60, in request\n",
      "    return session.request(method=method, url=url, **kwargs)\n",
      "  File \"/usr/local/miniconda3/envs/web/lib/python3.7/site-packages/requests/api.py\", line 60, in request\n",
      "    return session.request(method=method, url=url, **kwargs)\n",
      "  File \"/usr/local/miniconda3/envs/web/lib/python3.7/site-packages/requests/sessions.py\", line 668, in send\n",
      "    history = [resp for resp in gen] if allow_redirects else []\n",
      "  File \"/usr/local/miniconda3/envs/web/lib/python3.7/site-packages/requests/sessions.py\", line 533, in request\n",
      "    resp = self.send(prep, **send_kwargs)\n",
      "  File \"/usr/local/miniconda3/envs/web/lib/python3.7/site-packages/requests/sessions.py\", line 533, in request\n",
      "    resp = self.send(prep, **send_kwargs)\n",
      "  File \"/usr/local/miniconda3/envs/web/lib/python3.7/site-packages/requests/sessions.py\", line 668, in <listcomp>\n",
      "    history = [resp for resp in gen] if allow_redirects else []\n",
      "  File \"/usr/local/miniconda3/envs/web/lib/python3.7/site-packages/requests/sessions.py\", line 646, in send\n",
      "    r = adapter.send(request, **kwargs)\n",
      "  File \"/usr/local/miniconda3/envs/web/lib/python3.7/site-packages/requests/sessions.py\", line 668, in send\n",
      "    history = [resp for resp in gen] if allow_redirects else []\n",
      "  File \"/usr/local/miniconda3/envs/web/lib/python3.7/site-packages/requests/sessions.py\", line 247, in resolve_redirects\n",
      "    **adapter_kwargs\n",
      "  File \"/usr/local/miniconda3/envs/web/lib/python3.7/site-packages/requests/adapters.py\", line 449, in send\n",
      "    timeout=timeout\n",
      "  File \"/usr/local/miniconda3/envs/web/lib/python3.7/site-packages/requests/sessions.py\", line 646, in send\n",
      "    r = adapter.send(request, **kwargs)\n",
      "  File \"/usr/local/miniconda3/envs/web/lib/python3.7/site-packages/requests/sessions.py\", line 668, in <listcomp>\n",
      "    history = [resp for resp in gen] if allow_redirects else []\n",
      "  File \"/usr/local/miniconda3/envs/web/lib/python3.7/site-packages/urllib3/connectionpool.py\", line 603, in urlopen\n",
      "    chunked=chunked)\n",
      "  File \"/usr/local/miniconda3/envs/web/lib/python3.7/site-packages/requests/adapters.py\", line 449, in send\n",
      "    timeout=timeout\n",
      "  File \"/usr/local/miniconda3/envs/web/lib/python3.7/site-packages/urllib3/connectionpool.py\", line 603, in urlopen\n",
      "    chunked=chunked)\n",
      "  File \"/usr/local/miniconda3/envs/web/lib/python3.7/site-packages/requests/sessions.py\", line 247, in resolve_redirects\n",
      "    **adapter_kwargs\n",
      "  File \"/usr/local/miniconda3/envs/web/lib/python3.7/site-packages/urllib3/connectionpool.py\", line 383, in _make_request\n",
      "    httplib_response = conn.getresponse()\n",
      "  File \"/usr/local/miniconda3/envs/web/lib/python3.7/site-packages/requests/sessions.py\", line 646, in send\n",
      "    r = adapter.send(request, **kwargs)\n",
      "  File \"/usr/local/miniconda3/envs/web/lib/python3.7/site-packages/urllib3/connectionpool.py\", line 383, in _make_request\n",
      "    httplib_response = conn.getresponse()\n",
      "  File \"/usr/local/miniconda3/envs/web/lib/python3.7/http/client.py\", line 1321, in getresponse\n",
      "    response.begin()\n",
      "  File \"/usr/local/miniconda3/envs/web/lib/python3.7/site-packages/requests/adapters.py\", line 449, in send\n",
      "    timeout=timeout\n",
      "  File \"/usr/local/miniconda3/envs/web/lib/python3.7/http/client.py\", line 1321, in getresponse\n",
      "    response.begin()\n",
      "  File \"/usr/local/miniconda3/envs/web/lib/python3.7/site-packages/urllib3/connectionpool.py\", line 603, in urlopen\n",
      "    chunked=chunked)\n",
      "  File \"/usr/local/miniconda3/envs/web/lib/python3.7/http/client.py\", line 296, in begin\n",
      "    version, status, reason = self._read_status()\n",
      "  File \"/usr/local/miniconda3/envs/web/lib/python3.7/http/client.py\", line 296, in begin\n",
      "    version, status, reason = self._read_status()\n",
      "  File \"/usr/local/miniconda3/envs/web/lib/python3.7/http/client.py\", line 257, in _read_status\n",
      "    line = str(self.fp.readline(_MAXLINE + 1), \"iso-8859-1\")\n",
      "  File \"/usr/local/miniconda3/envs/web/lib/python3.7/site-packages/urllib3/connectionpool.py\", line 383, in _make_request\n",
      "    httplib_response = conn.getresponse()\n",
      "  File \"/usr/local/miniconda3/envs/web/lib/python3.7/http/client.py\", line 257, in _read_status\n",
      "    line = str(self.fp.readline(_MAXLINE + 1), \"iso-8859-1\")\n"
     ]
    },
    {
     "name": "stderr",
     "output_type": "stream",
     "text": [
      "  File \"/usr/local/miniconda3/envs/web/lib/python3.7/http/client.py\", line 1321, in getresponse\n",
      "    response.begin()\n",
      "  File \"/usr/local/miniconda3/envs/web/lib/python3.7/socket.py\", line 589, in readinto\n",
      "    return self._sock.recv_into(b)\n",
      "  File \"/usr/local/miniconda3/envs/web/lib/python3.7/http/client.py\", line 296, in begin\n",
      "    version, status, reason = self._read_status()\n",
      "  File \"/usr/local/miniconda3/envs/web/lib/python3.7/ssl.py\", line 1052, in recv_into\n",
      "    return self.read(nbytes, buffer)\n",
      "  File \"/usr/local/miniconda3/envs/web/lib/python3.7/socket.py\", line 589, in readinto\n",
      "    return self._sock.recv_into(b)\n",
      "  File \"/usr/local/miniconda3/envs/web/lib/python3.7/ssl.py\", line 911, in read\n",
      "    return self._sslobj.read(len, buffer)\n",
      "  File \"/usr/local/miniconda3/envs/web/lib/python3.7/http/client.py\", line 257, in _read_status\n",
      "    line = str(self.fp.readline(_MAXLINE + 1), \"iso-8859-1\")\n",
      "  File \"/usr/local/miniconda3/envs/web/lib/python3.7/ssl.py\", line 1052, in recv_into\n",
      "    return self.read(nbytes, buffer)\n",
      "KeyboardInterrupt\n",
      "  File \"/usr/local/miniconda3/envs/web/lib/python3.7/ssl.py\", line 911, in read\n",
      "    return self._sslobj.read(len, buffer)\n",
      "  File \"/usr/local/miniconda3/envs/web/lib/python3.7/socket.py\", line 589, in readinto\n",
      "    return self._sock.recv_into(b)\n",
      "KeyboardInterrupt\n",
      "  File \"/usr/local/miniconda3/envs/web/lib/python3.7/ssl.py\", line 1052, in recv_into\n",
      "    return self.read(nbytes, buffer)\n",
      "  File \"/usr/local/miniconda3/envs/web/lib/python3.7/ssl.py\", line 911, in read\n",
      "    return self._sslobj.read(len, buffer)\n",
      "KeyboardInterrupt\n"
     ]
    }
   ],
   "source": [
    "work_id_list = [x for x in range(ARTWORK_ID_START, ARTWORK_ID_END, 1)]\n",
    "\n",
    "print(\"Current search range: \", ARTWORK_ID_START, '-', ARTWORK_ID_END)\n",
    "\n",
    "pool = multiprocessing.Pool(processes=NUM_THREADS) #use 5 processes to download the data\n",
    "# output = pool.map(download_by_id,work_id_list)  #output is a list of [None,None,...] since download_stuff doesn't return anything\n",
    "\n",
    "for _ in tqdm.tqdm(pool.imap_unordered(download_by_id, work_id_list), total=len(work_id_list)):\n",
    "    pass\n",
    "\n",
    "print(\"Script finished.\")\n",
    "print(\"The designed search range was: \", ARTWORK_ID_START, '-', ARTWORK_ID_END)\n",
    "\n",
    "\n"
   ]
  },
  {
   "cell_type": "code",
   "execution_count": null,
   "metadata": {},
   "outputs": [],
   "source": []
  },
  {
   "cell_type": "code",
   "execution_count": null,
   "metadata": {},
   "outputs": [],
   "source": []
  }
 ],
 "metadata": {
  "kernelspec": {
   "display_name": "web",
   "language": "python",
   "name": "web"
  },
  "language_info": {
   "codemirror_mode": {
    "name": "ipython",
    "version": 3
   },
   "file_extension": ".py",
   "mimetype": "text/x-python",
   "name": "python",
   "nbconvert_exporter": "python",
   "pygments_lexer": "ipython3",
   "version": "3.7.3"
  }
 },
 "nbformat": 4,
 "nbformat_minor": 2
}
