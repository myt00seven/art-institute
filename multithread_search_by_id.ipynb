{
 "cells": [
  {
   "cell_type": "markdown",
   "metadata": {},
   "source": [
    "# search by id"
   ]
  },
  {
   "cell_type": "code",
   "execution_count": 1,
   "metadata": {},
   "outputs": [],
   "source": [
    "import requests \n",
    "import bs4 \n",
    "import os\n",
    "import urllib\n",
    "import re\n",
    "import multiprocessing\n",
    "\n",
    "# MAX_FILE_DOWNLOAD_COUNT = 200\n",
    "ARTWORK_ID_START = 23992\n",
    "ARTWORK_ID_END = ARTWORK_ID_START + 1\n",
    "\n",
    "NUM_THREADS = 8\n",
    "\n",
    "MAXIMUM_CHAR_IN_FILENAME = 250\n",
    "CHAR_TO_KEEP_IN_END_OF_FILENAME = 20\n",
    "CC0_LICENSE_ONLY = False\n",
    "SKIP_EXISTED_FILE = True\n",
    "DOWNLOAD_DIR = 'downloads/'\n",
    "\n",
    "VERBOSE_LEVEL = 2"
   ]
  },
  {
   "cell_type": "code",
   "execution_count": 2,
   "metadata": {},
   "outputs": [],
   "source": [
    "if ARTWORK_ID_START > ARTWORK_ID_END:\n",
    "    ARTWORK_ID_START, ARTWORK_ID_END = ARTWORK_ID_END, ARTWORK_ID_START"
   ]
  },
  {
   "cell_type": "code",
   "execution_count": null,
   "metadata": {},
   "outputs": [],
   "source": []
  },
  {
   "cell_type": "code",
   "execution_count": 3,
   "metadata": {},
   "outputs": [],
   "source": [
    "# the idel filename:\n",
    "# title(year)-artist[style][origin]-(referencnumber).jpg\n",
    "\n",
    "# restrict the length of title so the entire line is less than 255\n",
    "# within title, if shorten is needed, keep the last 20 char and the rest starting from the start\n",
    "\n",
    "# the folder structure:\n",
    "# /downloads/style/artist/file.jpg"
   ]
  },
  {
   "cell_type": "code",
   "execution_count": 4,
   "metadata": {},
   "outputs": [],
   "source": [
    "def check_any_alpha(string):\n",
    "    for c in string:\n",
    "        if c.isalpha():\n",
    "            return True\n",
    "    return False"
   ]
  },
  {
   "cell_type": "code",
   "execution_count": 5,
   "metadata": {},
   "outputs": [],
   "source": [
    "def download_by_id(artwork_id):\n",
    "    \n",
    "    print(\"Search Progress: %d/%d, artwork id: %d\"%(artwork_id-ARTWORK_ID_START+1, ARTWORK_ID_END-ARTWORK_ID_START, artwork_id))\n",
    "    \n",
    "    urlbase = 'https://www.artic.edu/artworks/'\n",
    "    url = urlbase + str(artwork_id)\n",
    "    print(url)\n",
    "\n",
    "    res = requests.get(url)\n",
    "    try:\n",
    "        res.raise_for_status()\n",
    "\n",
    "        soup = bs4.BeautifulSoup(res.text, 'lxml')\n",
    "\n",
    "#         print(soup)\n",
    "\n",
    "        item = soup.find('div', class_='m-article-header__img-container')\n",
    "\n",
    "        #find the license\n",
    "        imglicense = soup.find('a', class_=\"m-article-header__img-credit\")\n",
    "        \n",
    "        if CC0_LICENSE_ONLY and imglicense:\n",
    "            imglic = imglicense.text\n",
    "            cleanlic = imglic.strip()\n",
    "            if cleanlic != \"CC0 Public Domain Designation\":\n",
    "                return\n",
    "        else:\n",
    "            #title\n",
    "            titletag = soup.find('h1', class_='sr-only')\n",
    "            title = titletag.text\n",
    "            if VERBOSE_LEVEL > 1:\n",
    "                print(title)\n",
    "\n",
    "            #artist\n",
    "            try:\n",
    "                artist = soup.find(\"dd\", attrs = {'itemprop' : 'creator'}).find(\"span\").find(\"a\").next\n",
    "            except:\n",
    "                artist = 'UnknownArtist'\n",
    "            if VERBOSE_LEVEL > 1:\n",
    "                print(artist)    \n",
    "\n",
    "            #style\n",
    "            try:\n",
    "                style = soup.find(itemprop=\"provider\").get(\"content\")\n",
    "            except:\n",
    "                style = 'None'\n",
    "            if VERBOSE_LEVEL > 1:\n",
    "                print(style)\n",
    "\n",
    "            #origin\n",
    "            try:\n",
    "                origin = soup.find(\"dd\", attrs = {'itemprop' : 'locationCreated'}).find(\"span\").next\n",
    "            # origin = soup.find(itemprop=\"locationCreated\").get(\"content\")\n",
    "            except:\n",
    "                origin = ''\n",
    "            if VERBOSE_LEVEL > 1:\n",
    "                print(origin)\n",
    "\n",
    "            # date\n",
    "            try: \n",
    "                date = soup.find(\"p\", attrs = {'class' : 'title f-secondary o-article__inline-header-display'}).next\n",
    "            except:\n",
    "                try:\n",
    "                    date = soup.find(\"dd\", attrs = {'itemprop' : 'dateCreated'}).find(\"a\").next\n",
    "                except:\n",
    "                    date = ''\n",
    "            date=date.replace(\"/\",'-')\n",
    "            if VERBOSE_LEVEL > 1:\n",
    "                print(date)\n",
    "\n",
    "            # reference number\n",
    "            try:\n",
    "                refidx = -1\n",
    "                refnum = soup.findAll('dd')[refidx].find(\"span\").next\n",
    "                while check_any_alpha(refnum):\n",
    "                    refidx -=1\n",
    "                    refnum = soup.findAll('dd')[refidx].find(\"span\").next\n",
    "            except:\n",
    "                refnum = ''\n",
    "            if VERBOSE_LEVEL > 1:\n",
    "                print(refnum)\n",
    "\n",
    "            # make the directory \n",
    "            mydirectory = os.path.join(DOWNLOAD_DIR, style, artist)\n",
    "            # soup.find(itemprop=\"provider\").get(\"content\")\n",
    "            os.makedirs(mydirectory, exist_ok=True)\n",
    "            print(mydirectory)\n",
    "\n",
    "            # make the filename\n",
    "            attr = \"(%s)-%s[%s](%s).jpg\"%(date,artist,style, refnum)\n",
    "            if VERBOSE_LEVEL > 1:\n",
    "                print(attr)\n",
    "            filename = title+attr\n",
    "            if VERBOSE_LEVEL > 1:\n",
    "                print(filename)\n",
    "            filenamelength = len(filename)\n",
    "            print(\"filenamelength:%s\"%filenamelength)\n",
    "            if filenamelength >= MAXIMUM_CHAR_IN_FILENAME:\n",
    "                title_available_length = MAXIMUM_CHAR_IN_FILENAME - len(attr)\n",
    "                title_cut = title[:title_available_length-CHAR_TO_KEEP_IN_END_OF_FILENAME]+'...'+title[-CHAR_TO_KEEP_IN_END_OF_FILENAME:] \n",
    "                filename = title_cut+attr\n",
    "                if VERBOSE_LEVEL > 1:\n",
    "                    print(\"After Cut:\")\n",
    "            filename = filename.replace(\"/\",\"-\")\n",
    "            if VERBOSE_LEVEL > 0:\n",
    "                print(filename)\n",
    "\n",
    "            if SKIP_EXISTED_FILE and os.path.isfile(os.path.join(mydirectory, os.path.basename(filename))):\n",
    "                with open(\"log.txt\", \"a\") as f:\n",
    "                    f.write(str(artwork_id) + \"|\" + \" FILE EXISTED: \" + filename +   \"\\n\")\n",
    "                return\n",
    "            try: \n",
    "                print(\"Try to download:\")\n",
    "                item.img.get(\"data-iiifid\")\n",
    "                imglink = item.img.get(\"data-iiifid\")\n",
    "                fulllink = imglink + '/full/4000,/0/default.jpg'\n",
    "\n",
    "                #download the file\n",
    "                print('Downloading image %s...' % (fulllink))\n",
    "                res = requests.get(fulllink)\n",
    "                res.raise_for_status()\n",
    "\n",
    "                #save the file\n",
    "                imageFile = open(os.path.join(mydirectory, os.path.basename(filename)), 'wb')\n",
    "                for chunk in res.iter_content(1000000):\n",
    "                    imageFile.write(chunk)\n",
    "                imageFile.close()\n",
    "\n",
    "                with open(\"log.txt\", \"a\") as f:\n",
    "                    f.write(str(artwork_id) + \"|\"+ \" NEW FILE: \" + filename +   \"\\n\")\n",
    "\n",
    "                if VERBOSE_LEVEL > 1:\n",
    "                    print(\"Downloaded\")\n",
    "                    \n",
    "                return\n",
    "\n",
    "            except:\n",
    "                with open(\"log.txt\", \"a\") as f:\n",
    "                    f.write(str(artwork_id) + \"| IMAGE UNAVAILABLE \\n\")\n",
    "    except Exception as e:\n",
    "        print (e)\n",
    "        with open(\"log.txt\", \"a\") as f:\n",
    "                f.write(str(artwork_id) + \"| URL UNAVAILABLE \\n\")"
   ]
  },
  {
   "cell_type": "code",
   "execution_count": 6,
   "metadata": {},
   "outputs": [],
   "source": [
    "import tqdm"
   ]
  },
  {
   "cell_type": "code",
   "execution_count": 7,
   "metadata": {
    "scrolled": false
   },
   "outputs": [
    {
     "name": "stdout",
     "output_type": "stream",
     "text": [
      "Current search range:  23992 - 23993\n"
     ]
    },
    {
     "name": "stderr",
     "output_type": "stream",
     "text": [
      "\r",
      "  0%|          | 0/1 [00:00<?, ?it/s]"
     ]
    },
    {
     "name": "stdout",
     "output_type": "stream",
     "text": [
      "Search Progress: 1/1, artwork id: 23992\n",
      "https://www.artic.edu/artworks/23992\n",
      "Memento Mori\n",
      "Master M.Z.\n",
      "Prints and Drawings\n",
      "Germany\n",
      "1500-02\n",
      "1937.293\n",
      "downloads/Prints and Drawings/Master M.Z.\n",
      "(1500-02)-Master M.Z.[Prints and Drawings](1937.293).jpg\n",
      "Memento Mori(1500-02)-Master M.Z.[Prints and Drawings](1937.293).jpg\n",
      "filenamelength:68\n",
      "Memento Mori(1500-02)-Master M.Z.[Prints and Drawings](1937.293).jpg\n",
      "Try to download:\n",
      "Downloading image https://www.artic.edu/iiif/2/a5f74e50-d547-248d-a972-5d715e0c7726/full/4000,/0/default.jpg...\n",
      "Downloaded\n"
     ]
    },
    {
     "name": "stderr",
     "output_type": "stream",
     "text": [
      "\r",
      "100%|██████████| 1/1 [00:14<00:00, 14.38s/it]"
     ]
    },
    {
     "name": "stdout",
     "output_type": "stream",
     "text": [
      "Script finished.\n",
      "The designed search range was:  23992 - 23993\n"
     ]
    },
    {
     "name": "stderr",
     "output_type": "stream",
     "text": [
      "\n"
     ]
    }
   ],
   "source": [
    "work_id_list = [x for x in range(ARTWORK_ID_START, ARTWORK_ID_END, 1)]\n",
    "\n",
    "print(\"Current search range: \", ARTWORK_ID_START, '-', ARTWORK_ID_END)\n",
    "\n",
    "pool = multiprocessing.Pool(processes=NUM_THREADS) #use 5 processes to download the data\n",
    "# output = pool.map(download_by_id,work_id_list)  #output is a list of [None,None,...] since download_stuff doesn't return anything\n",
    "\n",
    "for _ in tqdm.tqdm(pool.imap_unordered(download_by_id, work_id_list), total=len(work_id_list)):\n",
    "    pass\n",
    "\n",
    "print(\"Script finished.\")\n",
    "print(\"The designed search range was: \", ARTWORK_ID_START, '-', ARTWORK_ID_END)\n",
    "\n",
    "\n"
   ]
  },
  {
   "cell_type": "code",
   "execution_count": 8,
   "metadata": {},
   "outputs": [
    {
     "name": "stdout",
     "output_type": "stream",
     "text": [
      "120994| URL UNAVAILABLE \r\n",
      "120992| NEW FILE: Dante's View, Death Valley(1938, printed 1953-54)-Edward Weston[Photography](1959.753).jpg\r\n",
      "120988| NEW FILE: Surf, Point Lobos(1938, printed 1953-54)-Edward Weston[Photography](1959.749).jpg\r\n",
      "120999| NEW FILE: Surf on Black Beach, Point Lobos(1938, printed 1953-54)-Edward Weston[Photography](1959.760).jpg\r\n",
      "120996| NEW FILE: Badlands, Borrego Desert(1938, printed 1953-54)-Edward Weston[Photography](1959.757).jpg\r\n",
      "120998| NEW FILE: Corkscrew Canyon Entrance, Death Valley(1938, printed 1953-54)-Edward Weston[Photography](1959.759).jpg\r\n",
      "120997| NEW FILE: Golden Canyon, Death Valley(1938, printed 1953-54)-Edward Weston[Photography](1959.758).jpg\r\n",
      "23936| NEW FILE: Untitled(1960)-Bruce Davidson[Photography](1965.676).jpg\r\n",
      "22929| NEW FILE: Untitled(c. 1960)-Rudolph Janu[Photography](1965.179).jpg\r\n",
      "23992| NEW FILE: Memento Mori(1500-02)-Master M.Z.[Prints and Drawings](1937.293).jpg\r\n"
     ]
    }
   ],
   "source": [
    "! tail log.txt"
   ]
  },
  {
   "cell_type": "markdown",
   "metadata": {},
   "source": [
    "## "
   ]
  }
 ],
 "metadata": {
  "kernelspec": {
   "display_name": "web",
   "language": "python",
   "name": "web"
  },
  "language_info": {
   "codemirror_mode": {
    "name": "ipython",
    "version": 3
   },
   "file_extension": ".py",
   "mimetype": "text/x-python",
   "name": "python",
   "nbconvert_exporter": "python",
   "pygments_lexer": "ipython3",
   "version": "3.7.3"
  }
 },
 "nbformat": 4,
 "nbformat_minor": 2
}
