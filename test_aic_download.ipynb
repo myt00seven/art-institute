{
 "cells": [
  {
   "cell_type": "markdown",
   "metadata": {},
   "source": [
    "# search by style"
   ]
  },
  {
   "cell_type": "code",
   "execution_count": null,
   "metadata": {},
   "outputs": [],
   "source": [
    "import requests \n",
    "import bs4 \n",
    "import os\n",
    "import urllib\n",
    "\n",
    "# set hyper parameters for what you want to download\n",
    "STYLE = 'Modernism'\n",
    "MAXIMUM_DOWNLOAD = 1\n",
    "ONLY_IN_PUBLIC_DOMAIN = False\n",
    "\n",
    "#where to store the files\n",
    "mydirectory = 'downloads/'+STYLE\n",
    "os.makedirs(mydirectory, exist_ok=True)"
   ]
  },
  {
   "cell_type": "code",
   "execution_count": null,
   "metadata": {},
   "outputs": [],
   "source": [
    "#the search results from the Art Institute that we want to grab\n",
    "#example: url = 'https://www.artic.edu/collection?is_public_domain=1&style_ids=Modernism'\n",
    "\n",
    "url = 'https://www.artic.edu/collection?'\n",
    "\n",
    "if ONLY_IN_PUBLIC_DOMAIN:\n",
    "    url += 'is_public_domain=1'\n",
    "else:\n",
    "    url += 'is_public_domain=0'\n",
    "\n",
    "url += '&style_ids=%s'%STYLE\n",
    "print (url)"
   ]
  },
  {
   "cell_type": "code",
   "execution_count": null,
   "metadata": {},
   "outputs": [],
   "source": [
    "res = requests.get(url)\n",
    "res.raise_for_status()\n",
    "\n",
    "soup = bs4.BeautifulSoup(res.text, 'lxml')"
   ]
  },
  {
   "cell_type": "code",
   "execution_count": null,
   "metadata": {
    "scrolled": true
   },
   "outputs": [],
   "source": [
    "for item in soup.find_all('li', class_='m-listing'):\n",
    "    break\n"
   ]
  },
  {
   "cell_type": "code",
   "execution_count": null,
   "metadata": {},
   "outputs": [],
   "source": [
    "item"
   ]
  },
  {
   "cell_type": "code",
   "execution_count": null,
   "metadata": {},
   "outputs": [],
   "source": [
    "imglink = item.img.get(\"data-iiifid\")\n",
    "fulllink = imglink + '/full/4000,/0/default.jpg'\n",
    "# fulllink = imglink + '/full/8000,/0/default.jpg'\n",
    "print(fulllink)"
   ]
  },
  {
   "cell_type": "code",
   "execution_count": null,
   "metadata": {},
   "outputs": [],
   "source": []
  },
  {
   "cell_type": "code",
   "execution_count": null,
   "metadata": {},
   "outputs": [],
   "source": [
    "count_file_downloaded = 0\n",
    "\n",
    "#everything we are interested in is in a <li class=\"m-listing\"> tag\n",
    "for item in soup.find_all('li', class_='m-listing'):\n",
    "    #not all artworks have an artist listed\n",
    "    artist = ''\n",
    "    #link = item.find('a', href=True)\n",
    "\n",
    "    #imgsrc = item.find('img')\n",
    "    try: \n",
    "        #the image link is in an IMG attribute called \"data-iiifid\"\n",
    "        item.img.get(\"data-iiifid\")\n",
    "        imglink = item.img.get(\"data-iiifid\")\n",
    "        fulllink = imglink + '/full/4000,/0/default.jpg'\n",
    "        print(fulllink)\n",
    "\n",
    "        #the title is wrapped in <strong> tags\n",
    "        title = item.strong.text\n",
    "\n",
    "        #the artist name is in a <span class=\"subtitle\">\n",
    "        artistspan = item.find('span', class_='subtitle')\n",
    "        if artistspan:\n",
    "            artist = artistspan.text\n",
    "\n",
    "        #rename the file with the title and artist\n",
    "        filename = title + ' -- ' + artist + '.jpg'\n",
    "        print(filename)\n",
    "\n",
    "        #download the file\n",
    "        print('Downloading image %s...' % (fulllink))\n",
    "        res = requests.get(fulllink)\n",
    "        res.raise_for_status()\n",
    "\n",
    "        #save the file\n",
    "        imageFile = open(os.path.join(mydirectory, os.path.basename(filename)), 'wb')\n",
    "        for chunk in res.iter_content(1000000):\n",
    "            imageFile.write(chunk)\n",
    "        imageFile.close()\n",
    "        print(\"Downloaded\")\n",
    "        \n",
    "        count_file_downloaded += 1\n",
    "        if count_file_downloaded >= MAXIMUM_DOWNLOAD:\n",
    "            break\n",
    "        \n",
    "    except:\n",
    "        print('## Not a valid image file')\n",
    "        continue"
   ]
  },
  {
   "cell_type": "code",
   "execution_count": null,
   "metadata": {},
   "outputs": [],
   "source": []
  },
  {
   "cell_type": "code",
   "execution_count": null,
   "metadata": {},
   "outputs": [],
   "source": []
  },
  {
   "cell_type": "code",
   "execution_count": null,
   "metadata": {},
   "outputs": [],
   "source": []
  },
  {
   "cell_type": "markdown",
   "metadata": {},
   "source": [
    "# search by id"
   ]
  },
  {
   "cell_type": "code",
   "execution_count": 5,
   "metadata": {},
   "outputs": [],
   "source": [
    "# import requests \n",
    "# import bs4 \n",
    "# import os\n",
    "# import urllib\n",
    "# import re\n",
    "\n",
    "# MAX_FILE_DOWNLOAD_COUNT = 1\n",
    "\n",
    "# file_downloaded_count = 0"
   ]
  },
  {
   "cell_type": "code",
   "execution_count": 7,
   "metadata": {},
   "outputs": [],
   "source": [
    "# for work in range(93000, 92800, -1):\n",
    "\n",
    "#     if file_downloaded_count >= MAX_FILE_DOWNLOAD_COUNT:\n",
    "#         break\n",
    "\n",
    "#     urlbase = 'https://www.artic.edu/artworks/'\n",
    "#     url = urlbase + str(work)\n",
    "#     print(url)\n",
    "\n",
    "#     res = requests.get(url)\n",
    "#     try:\n",
    "#         res.raise_for_status()\n",
    "\n",
    "#         soup = bs4.BeautifulSoup(res.text, 'lxml')\n",
    "\n",
    "# #         print(soup)\n",
    "\n",
    "#         item = soup.find('div', class_='m-article-header__img-container')\n",
    "\n",
    "#         #find the license\n",
    "#         imglicense = soup.find('a', class_=\"m-article-header__img-credit\")\n",
    "#         if imglicense:\n",
    "#             imglic = imglicense.text\n",
    "#             cleanlic = imglic.strip()\n",
    "\n",
    "#             if cleanlic == \"CC0 Public Domain Designation\":\n",
    "        \n",
    "#                 #title\n",
    "#                 titletag = soup.find('h1', class_='sr-only')\n",
    "#                 title = titletag.text\n",
    "#                 print(title)\n",
    "\n",
    "#                 #artist\n",
    "#                 #TODO come back and do this right\n",
    "#                 #artist = soup.find(\"data-gtm-event\")\n",
    "#                 #print(artist)    \n",
    "\n",
    "#                 #set or create a folder based on art style\n",
    "#                 mydirectory = 'downloads/'+soup.find(itemprop=\"provider\").get(\"content\")\n",
    "#                 os.makedirs(mydirectory, exist_ok=True)\n",
    "#                 print(mydirectory)\n",
    "\n",
    "#                 try: \n",
    "#                     item.img.get(\"data-iiifid\")\n",
    "#                     imglink = item.img.get(\"data-iiifid\")\n",
    "#                     fulllink = imglink + '/full/4000,/0/default.jpg'\n",
    "\n",
    "#                     #rename the file with the title and artist\n",
    "#                     filename = title + ' -- ' + str(work) + '.jpg'\n",
    "#                     #filename = title + '.jpg'\n",
    "#                     print(filename)\n",
    "\n",
    "#                     #download the file\n",
    "#                     print('Downloading image %s...' % (fulllink))\n",
    "#                     res = requests.get(fulllink)\n",
    "#                     res.raise_for_status()\n",
    "\n",
    "#                     #save the file\n",
    "#                     imageFile = open(os.path.join(mydirectory, os.path.basename(filename)), 'wb')\n",
    "#                     for chunk in res.iter_content(1000000):\n",
    "#                         imageFile.write(chunk)\n",
    "#                     imageFile.close()\n",
    "\n",
    "#                     with open(\"log.txt\", \"a\") as f:\n",
    "#                         f.write(str(work) + \"|\" + title +   \"\\n\")\n",
    "\n",
    "#                     file_downloaded_count += 1\n",
    "#                     print(\"Downloaded\")\n",
    "\n",
    "#                 except:\n",
    "#                     with open(\"log.txt\", \"a\") as f:\n",
    "#                         f.write(str(work) + \"| IMAGE UNAVAILABLE \\n\")\n",
    "#     except:\n",
    "#         with open(\"log.txt\", \"a\") as f:\n",
    "#                 f.write(str(work) + \"| URL UNAVAILABLE \\n\")"
   ]
  },
  {
   "cell_type": "code",
   "execution_count": null,
   "metadata": {},
   "outputs": [],
   "source": []
  },
  {
   "cell_type": "code",
   "execution_count": null,
   "metadata": {},
   "outputs": [],
   "source": []
  },
  {
   "cell_type": "code",
   "execution_count": null,
   "metadata": {},
   "outputs": [],
   "source": []
  },
  {
   "cell_type": "code",
   "execution_count": null,
   "metadata": {},
   "outputs": [],
   "source": []
  },
  {
   "cell_type": "code",
   "execution_count": null,
   "metadata": {},
   "outputs": [],
   "source": []
  }
 ],
 "metadata": {
  "kernelspec": {
   "display_name": "web",
   "language": "python",
   "name": "web"
  },
  "language_info": {
   "codemirror_mode": {
    "name": "ipython",
    "version": 3
   },
   "file_extension": ".py",
   "mimetype": "text/x-python",
   "name": "python",
   "nbconvert_exporter": "python",
   "pygments_lexer": "ipython3",
   "version": "3.7.3"
  }
 },
 "nbformat": 4,
 "nbformat_minor": 2
}
