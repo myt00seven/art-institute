{
 "cells": [
  {
   "cell_type": "code",
   "execution_count": 19,
   "metadata": {},
   "outputs": [],
   "source": [
    "import requests \n",
    "import bs4 \n",
    "import os\n",
    "import urllib\n",
    "\n",
    "# set hyper parameters for what you want to download\n",
    "STYLE = 'Modernism'\n",
    "MAXIMUM_DOWNLOAD = 1\n",
    "ONLY_IN_PUBLIC_DOMAIN = False\n",
    "\n",
    "#where to store the files\n",
    "mydirectory = 'downloads/'+STYLE\n",
    "os.makedirs(mydirectory, exist_ok=True)"
   ]
  },
  {
   "cell_type": "code",
   "execution_count": 23,
   "metadata": {},
   "outputs": [
    {
     "name": "stdout",
     "output_type": "stream",
     "text": [
      "https://www.artic.edu/collection?is_public_domain=0&style_ids=Modernism\n"
     ]
    }
   ],
   "source": [
    "#the search results from the Art Institute that we want to grab\n",
    "#example: url = 'https://www.artic.edu/collection?is_public_domain=1&style_ids=Modernism'\n",
    "\n",
    "url = 'https://www.artic.edu/collection?'\n",
    "\n",
    "if ONLY_IN_PUBLIC_DOMAIN:\n",
    "    url += 'is_public_domain=1'\n",
    "else:\n",
    "    url += 'is_public_domain=0'\n",
    "\n",
    "url += '&style_ids=%s'%STYLE\n",
    "print (url)"
   ]
  },
  {
   "cell_type": "code",
   "execution_count": 24,
   "metadata": {},
   "outputs": [],
   "source": [
    "res = requests.get(url)\n",
    "res.raise_for_status()\n",
    "\n",
    "soup = bs4.BeautifulSoup(res.text, 'lxml')"
   ]
  },
  {
   "cell_type": "code",
   "execution_count": 25,
   "metadata": {
    "scrolled": true
   },
   "outputs": [],
   "source": [
    "for item in soup.find_all('li', class_='m-listing'):\n",
    "    break\n"
   ]
  },
  {
   "cell_type": "code",
   "execution_count": 26,
   "metadata": {},
   "outputs": [
    {
     "data": {
      "text/plain": [
       "<li class=\"m-listing m-listing--variable-height o-pinboard__item\" itemscope=\"\" itemtype=\"http://schema.org/CreativeWork\">\n",
       "<a class=\"m-listing__link\" data-gtm-event=\"Nighthawks\" data-gtm-event-action=\"Collection Landing\" data-gtm-event-category=\"collection-nav\" href=\"https://www.artic.edu/artworks/111628/nighthawks?is_public_domain=0&amp;style_ids=Modernism\" itemprop=\"url\">\n",
       "<span class=\"m-listing__img m-listing__img--no-bg\">\n",
       "<img alt=\"Strangers in a brightly lit diner, seen from shadowy exterior\" class=\"\" data-iiifid=\"https://www.artic.edu/iiif/2/39d43108-e690-2705-67e2-a16dc28b8c7f\" data-pin-media=\"https://www.artic.edu/iiif/2/39d43108-e690-2705-67e2-a16dc28b8c7f/full/600,/0/default.jpg\" data-srcset=\"https://www.artic.edu/iiif/2/39d43108-e690-2705-67e2-a16dc28b8c7f/full/200,/0/default.jpg 200w, https://www.artic.edu/iiif/2/39d43108-e690-2705-67e2-a16dc28b8c7f/full/400,/0/default.jpg 400w, https://www.artic.edu/iiif/2/39d43108-e690-2705-67e2-a16dc28b8c7f/full/600,/0/default.jpg 600w, https://www.artic.edu/iiif/2/39d43108-e690-2705-67e2-a16dc28b8c7f/full/800,/0/default.jpg 800w\" height=\"1638\" sizes=\"(min-width: 1640px) 336px, (min-width: 1200px) 20.31vw, (min-width: 900px) 28.13vw, (min-width: 600px) 43.75vw,  43.75vw\" src=\"data:image/gif;base64,R0lGODlhCQAFAPUAAAggIQsoKQksLAssLxUsKRkvLRgxMhM+PBo4OzAtJCcwKSY0KSY0LCozKDwyJT85KSk4MEk2JFE7IwxDOx5AOEZCLEJKPAk0QgI6TBJGRRVNRx9LSwtYWyhWTzhQTStaWjxrZEBxYkV0ZUhxaEh5bE+Ke8vBbX2/poXCq4rKr9PUncfPoc3XpwAAAAAAAAAAAAAAAAAAAAAAAAAAAAAAAAAAAAAAAAAAAAAAAAAAAAAAAAAAAAAAAAAAAAAAAAAAACH5BAAAAAAALAAAAAAJAAUAAAYqQIckkmgsIAZEgUHJbD6jlSoA0HAuGA/LBCKFJgTFw1JBpU4lUecgGAQBADs=\" width=\"3000\"/>\n",
       "</span>\n",
       "<span class=\"m-listing__meta\">\n",
       "<strong class=\"title f-list-7\">Nighthawks, 1942</strong>\n",
       "<br/>\n",
       "<span class=\"subtitle f-tertiary\">Edward Hopper</span>\n",
       "</span>\n",
       "</a>\n",
       "</li>"
      ]
     },
     "execution_count": 26,
     "metadata": {},
     "output_type": "execute_result"
    }
   ],
   "source": [
    "item"
   ]
  },
  {
   "cell_type": "code",
   "execution_count": 27,
   "metadata": {},
   "outputs": [
    {
     "name": "stdout",
     "output_type": "stream",
     "text": [
      "https://www.artic.edu/iiif/2/39d43108-e690-2705-67e2-a16dc28b8c7f/full/4000,/0/default.jpg\n"
     ]
    }
   ],
   "source": [
    "imglink = item.img.get(\"data-iiifid\")\n",
    "fulllink = imglink + '/full/4000,/0/default.jpg'\n",
    "# fulllink = imglink + '/full/8000,/0/default.jpg'\n",
    "print(fulllink)"
   ]
  },
  {
   "cell_type": "code",
   "execution_count": null,
   "metadata": {},
   "outputs": [],
   "source": []
  },
  {
   "cell_type": "code",
   "execution_count": 29,
   "metadata": {},
   "outputs": [
    {
     "name": "stdout",
     "output_type": "stream",
     "text": [
      "https://www.artic.edu/iiif/2/39d43108-e690-2705-67e2-a16dc28b8c7f/full/4000,/0/default.jpg\n",
      "Nighthawks, 1942 -- Edward Hopper.jpg\n",
      "Downloading image https://www.artic.edu/iiif/2/39d43108-e690-2705-67e2-a16dc28b8c7f/full/4000,/0/default.jpg...\n",
      "Downloaded\n"
     ]
    }
   ],
   "source": [
    "count_file_downloaded = 0\n",
    "\n",
    "#everything we are interested in is in a <li class=\"m-listing\"> tag\n",
    "for item in soup.find_all('li', class_='m-listing'):\n",
    "    #not all artworks have an artist listed\n",
    "    artist = ''\n",
    "    #link = item.find('a', href=True)\n",
    "\n",
    "    #imgsrc = item.find('img')\n",
    "    try: \n",
    "        #the image link is in an IMG attribute called \"data-iiifid\"\n",
    "        item.img.get(\"data-iiifid\")\n",
    "        imglink = item.img.get(\"data-iiifid\")\n",
    "        fulllink = imglink + '/full/4000,/0/default.jpg'\n",
    "        print(fulllink)\n",
    "\n",
    "        #the title is wrapped in <strong> tags\n",
    "        title = item.strong.text\n",
    "\n",
    "        #the artist name is in a <span class=\"subtitle\">\n",
    "        artistspan = item.find('span', class_='subtitle')\n",
    "        if artistspan:\n",
    "            artist = artistspan.text\n",
    "\n",
    "        #rename the file with the title and artist\n",
    "        filename = title + ' -- ' + artist + '.jpg'\n",
    "        print(filename)\n",
    "\n",
    "        #download the file\n",
    "        print('Downloading image %s...' % (fulllink))\n",
    "        res = requests.get(fulllink)\n",
    "        res.raise_for_status()\n",
    "\n",
    "        #save the file\n",
    "        imageFile = open(os.path.join(mydirectory, os.path.basename(filename)), 'wb')\n",
    "        for chunk in res.iter_content(1000000):\n",
    "            imageFile.write(chunk)\n",
    "        imageFile.close()\n",
    "        print(\"Downloaded\")\n",
    "        \n",
    "        count_file_downloaded += 1\n",
    "        if count_file_downloaded >= MAXIMUM_DOWNLOAD:\n",
    "            break\n",
    "        \n",
    "    except:\n",
    "        print('## Not a valid image file')\n",
    "        continue"
   ]
  },
  {
   "cell_type": "code",
   "execution_count": null,
   "metadata": {},
   "outputs": [],
   "source": []
  }
 ],
 "metadata": {
  "kernelspec": {
   "display_name": "web",
   "language": "python",
   "name": "web"
  },
  "language_info": {
   "codemirror_mode": {
    "name": "ipython",
    "version": 3
   },
   "file_extension": ".py",
   "mimetype": "text/x-python",
   "name": "python",
   "nbconvert_exporter": "python",
   "pygments_lexer": "ipython3",
   "version": "3.7.3"
  }
 },
 "nbformat": 4,
 "nbformat_minor": 2
}
