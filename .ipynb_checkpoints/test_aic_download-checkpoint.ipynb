{
 "cells": [
  {
   "cell_type": "code",
   "execution_count": 19,
   "metadata": {},
   "outputs": [],
   "source": [
    "import requests \n",
    "import bs4 \n",
    "import os\n",
    "import urllib\n",
    "\n",
    "# set hyper parameters for what you want to download\n",
    "STYLE = 'Modernism'\n",
    "MAXIMUM_DOWNLOAD = 1\n",
    "ONLY_IN_PUBLIC_DOMAIN = False\n",
    "\n",
    "#where to store the files\n",
    "mydirectory = 'downloads/'+STYLE\n",
    "os.makedirs(mydirectory, exist_ok=True)"
   ]
  },
  {
   "cell_type": "code",
   "execution_count": 21,
   "metadata": {},
   "outputs": [
    {
     "name": "stdout",
     "output_type": "stream",
     "text": [
      "https://www.artic.edu/collection/is_public_domain=0&style_ids=Modernism\n"
     ]
    }
   ],
   "source": [
    "#the search results from the Art Institute that we want to grab\n",
    "\n",
    "# url = 'https://www.artic.edu/collection?is_public_domain=1&style_ids=Modernism'\n",
    "\n",
    "\n",
    "url = 'https://www.artic.edu/collection?'\n",
    "\n",
    "if ONLY_IN_PUBLIC_DOMAIN:\n",
    "    url += 'is_public_domain=1'\n",
    "else:\n",
    "    url += 'is_public_domain=0'\n",
    "\n",
    "url += '&style_ids=%s'%STYLE\n",
    "print (url)"
   ]
  },
  {
   "cell_type": "code",
   "execution_count": 8,
   "metadata": {},
   "outputs": [],
   "source": [
    "res = requests.get(url)\n",
    "res.raise_for_status()\n",
    "\n",
    "soup = bs4.BeautifulSoup(res.text, 'lxml')"
   ]
  },
  {
   "cell_type": "code",
   "execution_count": 10,
   "metadata": {
    "scrolled": true
   },
   "outputs": [],
   "source": [
    "for item in soup.find_all('li', class_='m-listing'):\n",
    "    break\n"
   ]
  },
  {
   "cell_type": "code",
   "execution_count": 12,
   "metadata": {},
   "outputs": [
    {
     "data": {
      "text/plain": [
       "<li class=\"m-listing m-listing--variable-height o-pinboard__item\" itemscope=\"\" itemtype=\"http://schema.org/CreativeWork\">\n",
       "<a class=\"m-listing__link\" data-gtm-event=\"The Child's Bath\" data-gtm-event-action=\"Collection Landing\" data-gtm-event-category=\"collection-nav\" href=\"https://www.artic.edu/artworks/111442/the-child-s-bath?is_public_domain=1&amp;style_ids=Modernism\" itemprop=\"url\">\n",
       "<span class=\"m-listing__img m-listing__img--no-bg\">\n",
       "<img alt=\"Painting of mother in blue, purple, and green-stripped dress washing child’s feet\" class=\"\" data-iiifid=\"https://www.artic.edu/iiif/2/c418c213-c246-1883-cd09-ca8496c69c9a\" data-pin-media=\"https://www.artic.edu/iiif/2/c418c213-c246-1883-cd09-ca8496c69c9a/full/600,/0/default.jpg\" data-srcset=\"https://www.artic.edu/iiif/2/c418c213-c246-1883-cd09-ca8496c69c9a/full/200,/0/default.jpg 200w, https://www.artic.edu/iiif/2/c418c213-c246-1883-cd09-ca8496c69c9a/full/400,/0/default.jpg 400w, https://www.artic.edu/iiif/2/c418c213-c246-1883-cd09-ca8496c69c9a/full/600,/0/default.jpg 600w, https://www.artic.edu/iiif/2/c418c213-c246-1883-cd09-ca8496c69c9a/full/800,/0/default.jpg 800w\" height=\"2250\" sizes=\"(min-width: 1640px) 336px, (min-width: 1200px) 20.31vw, (min-width: 900px) 28.13vw, (min-width: 600px) 43.75vw,  43.75vw\" src=\"data:image/gif;base64,R0lGODlhAwAFAPMAADw8NVhBNFhWQFxQRltXUmJOUWpdWF1kcGJgaWFkcIFzc2Z1hoSEi4uCjKebnAAAACH5BAAAAAAALAAAAAADAAUAAAQLkABx1EgOlbaCYREAOw==\" width=\"1482\"/>\n",
       "</span>\n",
       "<span class=\"m-listing__meta\">\n",
       "<strong class=\"title f-list-7\">The Child’s Bath, 1893</strong>\n",
       "<br/>\n",
       "<span class=\"subtitle f-tertiary\">Mary Cassatt</span>\n",
       "</span>\n",
       "</a>\n",
       "</li>"
      ]
     },
     "execution_count": 12,
     "metadata": {},
     "output_type": "execute_result"
    }
   ],
   "source": [
    "item"
   ]
  },
  {
   "cell_type": "code",
   "execution_count": 18,
   "metadata": {},
   "outputs": [
    {
     "name": "stdout",
     "output_type": "stream",
     "text": [
      "https://www.artic.edu/iiif/2/c418c213-c246-1883-cd09-ca8496c69c9a/full/4000,/0/default.jpg\n"
     ]
    }
   ],
   "source": [
    "imglink = item.img.get(\"data-iiifid\")\n",
    "fulllink = imglink + '/full/4000,/0/default.jpg'\n",
    "# fulllink = imglink + '/full/8000,/0/default.jpg'\n",
    "print(fulllink)"
   ]
  },
  {
   "cell_type": "code",
   "execution_count": null,
   "metadata": {},
   "outputs": [],
   "source": []
  },
  {
   "cell_type": "code",
   "execution_count": null,
   "metadata": {},
   "outputs": [
    {
     "name": "stdout",
     "output_type": "stream",
     "text": [
      "https://www.artic.edu/iiif/2/c418c213-c246-1883-cd09-ca8496c69c9a/full/4000,/0/default.jpg\n",
      "The Child’s Bath, 1893 -- Mary Cassatt.jpg\n",
      "Downloading image https://www.artic.edu/iiif/2/c418c213-c246-1883-cd09-ca8496c69c9a/full/4000,/0/default.jpg...\n",
      "https://www.artic.edu/iiif/2/0c266d91-4d1a-9329-aa1b-6d1a64a35b15/full/4000,/0/default.jpg\n",
      "The Herring Net, 1885 -- Winslow Homer.jpg\n",
      "Downloading image https://www.artic.edu/iiif/2/0c266d91-4d1a-9329-aa1b-6d1a64a35b15/full/4000,/0/default.jpg...\n",
      "## Not a valid image file\n",
      "https://www.artic.edu/iiif/2/9655c63f-e333-e64b-5f08-fab90ba07eff/full/4000,/0/default.jpg\n",
      "Improvisation No. 30 (Cannons), 1913 -- Vasily Kandinsky.jpg\n",
      "Downloading image https://www.artic.edu/iiif/2/9655c63f-e333-e64b-5f08-fab90ba07eff/full/4000,/0/default.jpg...\n",
      "https://www.artic.edu/iiif/2/faae120a-653c-50fe-33b2-0bd766939bdb/full/4000,/0/default.jpg\n",
      "Lozenge Composition with Yellow, Black, Blue, Red, and Gray, 1921 -- Piet Mondrian.jpg\n",
      "Downloading image https://www.artic.edu/iiif/2/faae120a-653c-50fe-33b2-0bd766939bdb/full/4000,/0/default.jpg...\n",
      "https://www.artic.edu/iiif/2/be11296e-fe7c-9751-3763-b68c85150df2/full/4000,/0/default.jpg\n",
      "Nocturne: Blue and Gold—Southampton Water, 1872 -- James McNeill Whistler.jpg\n",
      "Downloading image https://www.artic.edu/iiif/2/be11296e-fe7c-9751-3763-b68c85150df2/full/4000,/0/default.jpg...\n",
      "https://www.artic.edu/iiif/2/7f228009-f8de-48b6-8a16-94b48ec64471/full/4000,/0/default.jpg\n",
      "Croquet Scene, 1866 -- Winslow Homer.jpg\n",
      "Downloading image https://www.artic.edu/iiif/2/7f228009-f8de-48b6-8a16-94b48ec64471/full/4000,/0/default.jpg...\n",
      "https://www.artic.edu/iiif/2/faa5fade-5bfa-e0be-ced0-14a81ed1a784/full/4000,/0/default.jpg\n",
      "Arrangement in Flesh Color and Brown: Portrait of Arthur Jerome Eddy, 1894 -- James McNeill Whistler.jpg\n",
      "Downloading image https://www.artic.edu/iiif/2/faa5fade-5bfa-e0be-ced0-14a81ed1a784/full/4000,/0/default.jpg...\n",
      "https://www.artic.edu/iiif/2/f0df7cae-1b61-616d-1d10-84ec9bbf9d59/full/4000,/0/default.jpg\n",
      "Mohnköpfe (Poppyheads) (Dress or Furnishing Fabric), 1900 -- Koloman (Kolo) Moser.jpg\n",
      "Downloading image https://www.artic.edu/iiif/2/f0df7cae-1b61-616d-1d10-84ec9bbf9d59/full/4000,/0/default.jpg...\n",
      "https://www.artic.edu/iiif/2/b89717b1-a03a-0920-b420-341e2f320084/full/4000,/0/default.jpg\n",
      "Mrs. George Swinton (Elizabeth Ebsworth), 1897 -- John Singer Sargent.jpg\n",
      "Downloading image https://www.artic.edu/iiif/2/b89717b1-a03a-0920-b420-341e2f320084/full/4000,/0/default.jpg...\n",
      "https://www.artic.edu/iiif/2/db2c2a63-d975-2bca-1546-4654bf0669a2/full/4000,/0/default.jpg\n",
      "On a Balcony, 1878/79 -- Mary Cassatt.jpg\n",
      "Downloading image https://www.artic.edu/iiif/2/db2c2a63-d975-2bca-1546-4654bf0669a2/full/4000,/0/default.jpg...\n",
      "https://www.artic.edu/iiif/2/73b9e59b-cba4-665a-69fc-06636e2345d7/full/4000,/0/default.jpg\n",
      "Madame Paul Escudier (Louise Lefevre), 1882 -- John Singer Sargent.jpg\n",
      "Downloading image https://www.artic.edu/iiif/2/73b9e59b-cba4-665a-69fc-06636e2345d7/full/4000,/0/default.jpg...\n",
      "https://www.artic.edu/iiif/2/358d8dcf-2e83-2364-98ae-f7497fcd480c/full/4000,/0/default.jpg\n",
      "After the Bullfight, 1873 -- Mary Cassatt.jpg\n",
      "Downloading image https://www.artic.edu/iiif/2/358d8dcf-2e83-2364-98ae-f7497fcd480c/full/4000,/0/default.jpg...\n",
      "https://www.artic.edu/iiif/2/e9aa5bbe-7818-f34c-a396-d3a973ac1823/full/4000,/0/default.jpg\n",
      "Grey and Silver: Old Battersea Reach, 1863 -- James McNeill Whistler.jpg\n",
      "Downloading image https://www.artic.edu/iiif/2/e9aa5bbe-7818-f34c-a396-d3a973ac1823/full/4000,/0/default.jpg...\n",
      "## Not a valid image file\n",
      "https://www.artic.edu/iiif/2/fcaba8ce-5366-8327-03ff-421817d25904/full/4000,/0/default.jpg\n",
      "The Artist in His Studio, 1865/66 -- James McNeill Whistler.jpg\n",
      "Downloading image https://www.artic.edu/iiif/2/fcaba8ce-5366-8327-03ff-421817d25904/full/4000,/0/default.jpg...\n",
      "## Not a valid image file\n",
      "https://www.artic.edu/iiif/2/eed0bf27-29af-af2d-5d17-e6854f5b1b3c/full/4000,/0/default.jpg\n",
      "Violet and Silver - The Deep Sea, 1893 -- James McNeill Whistler.jpg\n",
      "Downloading image https://www.artic.edu/iiif/2/eed0bf27-29af-af2d-5d17-e6854f5b1b3c/full/4000,/0/default.jpg...\n",
      "## Not a valid image file\n",
      "https://www.artic.edu/iiif/2/7e1d6d2a-1e81-86a3-7460-142654ca7dd4/full/4000,/0/default.jpg\n",
      "Peach Blossoms, 1878 -- Winslow Homer.jpg\n",
      "Downloading image https://www.artic.edu/iiif/2/7e1d6d2a-1e81-86a3-7460-142654ca7dd4/full/4000,/0/default.jpg...\n",
      "## Not a valid image file\n",
      "https://www.artic.edu/iiif/2/20d01e23-a220-e36d-903d-072046161487/full/4000,/0/default.jpg\n",
      "Venetian Glass Workers, 1880/82 -- John Singer Sargent.jpg\n",
      "Downloading image https://www.artic.edu/iiif/2/20d01e23-a220-e36d-903d-072046161487/full/4000,/0/default.jpg...\n",
      "https://www.artic.edu/iiif/2/46aca8d3-86ad-5c61-62dc-ebfe655930a4/full/4000,/0/default.jpg\n",
      "Thistles, 1883/89 -- John Singer Sargent.jpg\n",
      "Downloading image https://www.artic.edu/iiif/2/46aca8d3-86ad-5c61-62dc-ebfe655930a4/full/4000,/0/default.jpg...\n"
     ]
    }
   ],
   "source": [
    "count_file_downloaded = 0\n",
    "\n",
    "#everything we are interested in is in a <li class=\"m-listing\"> tag\n",
    "for item in soup.find_all('li', class_='m-listing'):\n",
    "    #not all artworks have an artist listed\n",
    "    artist = ''\n",
    "    #link = item.find('a', href=True)\n",
    "\n",
    "    #imgsrc = item.find('img')\n",
    "    try: \n",
    "        #the image link is in an IMG attribute called \"data-iiifid\"\n",
    "        item.img.get(\"data-iiifid\")\n",
    "        imglink = item.img.get(\"data-iiifid\")\n",
    "        fulllink = imglink + '/full/4000,/0/default.jpg'\n",
    "        print(fulllink)\n",
    "\n",
    "        #the title is wrapped in <strong> tags\n",
    "        title = item.strong.text\n",
    "\n",
    "        #the artist name is in a <span class=\"subtitle\">\n",
    "        artistspan = item.find('span', class_='subtitle')\n",
    "        if artistspan:\n",
    "            artist = artistspan.text\n",
    "\n",
    "        #rename the file with the title and artist\n",
    "        filename = title + ' -- ' + artist + '.jpg'\n",
    "        print(filename)\n",
    "\n",
    "        #download the file\n",
    "        print('Downloading image %s...' % (fulllink))\n",
    "        res = requests.get(fulllink)\n",
    "        res.raise_for_status()\n",
    "\n",
    "        #save the file\n",
    "        imageFile = open(os.path.join(mydirectory, os.path.basename(filename)), 'wb')\n",
    "        for chunk in res.iter_content(1000000):\n",
    "            imageFile.write(chunk)\n",
    "        imageFile.close()\n",
    "        \n",
    "        count_file_downloaded += 1\n",
    "        if count_file_downloaded >= MAXIMUM_DOWNLOAD:\n",
    "            break\n",
    "\n",
    "    except:\n",
    "        print('## Not a valid image file')\n",
    "        continue"
   ]
  },
  {
   "cell_type": "code",
   "execution_count": null,
   "metadata": {},
   "outputs": [],
   "source": []
  }
 ],
 "metadata": {
  "kernelspec": {
   "display_name": "web",
   "language": "python",
   "name": "web"
  },
  "language_info": {
   "codemirror_mode": {
    "name": "ipython",
    "version": 3
   },
   "file_extension": ".py",
   "mimetype": "text/x-python",
   "name": "python",
   "nbconvert_exporter": "python",
   "pygments_lexer": "ipython3",
   "version": "3.7.3"
  }
 },
 "nbformat": 4,
 "nbformat_minor": 2
}
